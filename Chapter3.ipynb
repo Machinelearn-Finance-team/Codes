{
  "nbformat": 4,
  "nbformat_minor": 0,
  "metadata": {
    "colab": {
      "name": "Chapter3.ipynb",
      "provenance": [],
      "collapsed_sections": []
    },
    "kernelspec": {
      "name": "python3",
      "display_name": "Python 3"
    }
  },
  "cells": [
    {
      "cell_type": "markdown",
      "metadata": {
        "id": "s3jR893DQNT9"
      },
      "source": [
        "# 라벨링"
      ]
    },
    {
      "cell_type": "markdown",
      "metadata": {
        "id": "Xse8ZOsT92um"
      },
      "source": [
        "### `3.1 동기`\n",
        "- 금융 데이터를 레이블 하는 방법"
      ]
    },
    {
      "cell_type": "markdown",
      "metadata": {
        "id": "2FSVHpqW-dqf"
      },
      "source": [
        "### `3.2 고정-시간 호라이즌 기법`\n",
        "- 좋은 통계적 성질을 갖지 못한다.\n",
        "- 관측된 변동성과 상관없이 동일한 임계값을 가짐\n",
        "\n",
        "대안\n",
        "- 수익률의 롤링 지수 가중값 표준편차를 사용해 계산된, 변동하는 임계값에 대해 레이블하는 것\n",
        "- 거래량이나 달러바를 이용\n",
        "\n",
        "하지만, 경로가 가격을 앞선다는 것\n",
        "- 손절 제한, 거래소에서 손절됐을 포지션으로부터 수익을 낼 수 있는 전략을 구축한다는 것은 현실성이 없음\n",
        "\n"
      ]
    },
    {
      "cell_type": "markdown",
      "metadata": {
        "id": "miJZ7Lxb_nmB"
      },
      "source": [
        "### `3.3 동적 임계값 계산`\n",
        "- 베팅에 관련된 리스크의 함수에 의해 이익 실현과 손절 시점을 설정\n",
        "\n",
        "코드\n",
        "- 지수 가중값 이동 표준편차에 span0일 기간만큼 적용해 일 중 계산지점에서의 일 변동성을 계산"
      ]
    },
    {
      "cell_type": "markdown",
      "metadata": {
        "id": "Jw2efNitCMFP"
      },
      "source": [
        "### `3.4 트리플-배리어 기법`\n",
        "- 최초로 도달한 배리어에 따라 관측값을 레이블함\n",
        "- 2개의 horizontal 배리어와 1개의 vertical 배리어 설정 \n",
        "  - horizontal: 이익 실현과 손실 제한 한계에 의해 정의, 상단 배리어가 먼저 도달하면 1, 하단 배리어가 먼저 도달하면 -1\n",
        "  - vertical: 포지션을 취한 후 지나간 바의 개수에 의해 정의(만기 한도), 배리어에 도달할 경우 수익률의 부호로 하거나 0으로 정함 "
      ]
    },
    {
      "cell_type": "markdown",
      "metadata": {
        "id": "Y6UZd39sMfb_"
      },
      "source": [
        "### `3.5 방향과 크기 파악`\n",
        "- 머신러닝 알고리즘이 베팅의 방향과 크기를 학습\n",
        "- (?) pg.94 방향을 알아낸다는 것은 horizontal 배리어가 업거나 대칭이라는 것을 암시"
      ]
    },
    {
      "cell_type": "markdown",
      "metadata": {
        "id": "b6ezrgUNG38N"
      },
      "source": [
        "### `3.6 메타-레이블`\n",
        "- 적절한 베팅 크기"
      ]
    },
    {
      "cell_type": "markdown",
      "metadata": {
        "id": "cUcQOVfKIQlg"
      },
      "source": [
        "### `3.7 메타-레이블 이용하는 방법`\n",
        "- 재현율 극대화\n",
        "- {-1, 0, 1} -> {0, 1}"
      ]
    },
    {
      "cell_type": "markdown",
      "metadata": {
        "id": "VnJ-VQGvQ39T"
      },
      "source": [
        "## EX"
      ]
    },
    {
      "cell_type": "markdown",
      "metadata": {
        "id": "w9Rtlq71P9y2"
      },
      "source": [
        "### `ex 3.1`\n",
        "\n",
        "##### (a) Apply a symmetric CUSUM filter (Chapter 2, Section 2.5.2.1) where thethreshold is the standard deviation of daily returns (Snippet 3.1)."
      ]
    },
    {
      "cell_type": "code",
      "metadata": {
        "id": "PJMHIk2FOBKl"
      },
      "source": [
        "import numpy as np\n",
        "import pandas as pd\n",
        "import sys\n",
        "\n",
        "sys.path.append('/content/drive/MyDrive/퀀트/library')"
      ],
      "execution_count": 19,
      "outputs": []
    },
    {
      "cell_type": "code",
      "metadata": {
        "id": "q2jCvkdARBGm"
      },
      "source": [
        "import matplotlib.pyplot as plt\n",
        "from sampling import dollar_bars\n",
        "from filters import cusum\n",
        "from multiprocess_r import mpPandasObj"
      ],
      "execution_count": 20,
      "outputs": []
    },
    {
      "cell_type": "code",
      "metadata": {
        "id": "kJmzwCBAOFPP"
      },
      "source": [
        "db = pd.read_csv('/content/drive/MyDrive/퀀트/data/dollar_day.csv', index_col='date', parse_dates=True)\n",
        "db.columns = ['Close', 'Bid', 'Ask', 'Volume', 'Dollar Volume']\n",
        "db = db[['Close', 'Volume', 'Dollar Volume']]"
      ],
      "execution_count": 21,
      "outputs": []
    },
    {
      "cell_type": "code",
      "metadata": {
        "colab": {
          "base_uri": "https://localhost:8080/",
          "height": 235
        },
        "id": "-sdIcp_cUNqj",
        "outputId": "089b2955-1444-4bc7-d7a8-4db250d81e61"
      },
      "source": [
        "db = db.dropna()\n",
        "db.head()"
      ],
      "execution_count": 22,
      "outputs": [
        {
          "output_type": "execute_result",
          "data": {
            "text/html": [
              "<div>\n",
              "<style scoped>\n",
              "    .dataframe tbody tr th:only-of-type {\n",
              "        vertical-align: middle;\n",
              "    }\n",
              "\n",
              "    .dataframe tbody tr th {\n",
              "        vertical-align: top;\n",
              "    }\n",
              "\n",
              "    .dataframe thead th {\n",
              "        text-align: right;\n",
              "    }\n",
              "</style>\n",
              "<table border=\"1\" class=\"dataframe\">\n",
              "  <thead>\n",
              "    <tr style=\"text-align: right;\">\n",
              "      <th></th>\n",
              "      <th>Close</th>\n",
              "      <th>Volume</th>\n",
              "      <th>Dollar Volume</th>\n",
              "    </tr>\n",
              "    <tr>\n",
              "      <th>date</th>\n",
              "      <th></th>\n",
              "      <th></th>\n",
              "      <th></th>\n",
              "    </tr>\n",
              "  </thead>\n",
              "  <tbody>\n",
              "    <tr>\n",
              "      <th>2009-09-28</th>\n",
              "      <td>51.5300</td>\n",
              "      <td>100.0</td>\n",
              "      <td>5.153000e+03</td>\n",
              "    </tr>\n",
              "    <tr>\n",
              "      <th>2009-09-29</th>\n",
              "      <td>51.4900</td>\n",
              "      <td>700.0</td>\n",
              "      <td>3.604300e+04</td>\n",
              "    </tr>\n",
              "    <tr>\n",
              "      <th>2009-09-30</th>\n",
              "      <td>51.1900</td>\n",
              "      <td>1800.0</td>\n",
              "      <td>9.214200e+04</td>\n",
              "    </tr>\n",
              "    <tr>\n",
              "      <th>2009-10-01</th>\n",
              "      <td>50.3166</td>\n",
              "      <td>109373.0</td>\n",
              "      <td>5.503277e+06</td>\n",
              "    </tr>\n",
              "    <tr>\n",
              "      <th>2009-10-02</th>\n",
              "      <td>49.5100</td>\n",
              "      <td>600.0</td>\n",
              "      <td>2.970600e+04</td>\n",
              "    </tr>\n",
              "  </tbody>\n",
              "</table>\n",
              "</div>"
            ],
            "text/plain": [
              "              Close    Volume  Dollar Volume\n",
              "date                                        \n",
              "2009-09-28  51.5300     100.0   5.153000e+03\n",
              "2009-09-29  51.4900     700.0   3.604300e+04\n",
              "2009-09-30  51.1900    1800.0   9.214200e+04\n",
              "2009-10-01  50.3166  109373.0   5.503277e+06\n",
              "2009-10-02  49.5100     600.0   2.970600e+04"
            ]
          },
          "metadata": {
            "tags": []
          },
          "execution_count": 22
        }
      ]
    },
    {
      "cell_type": "code",
      "metadata": {
        "id": "BNzgpj5jO2i_"
      },
      "source": [
        "def getDailyVol(close, span0=100):\n",
        "  # 일별 거래량, 종가에 따라 재 인덱싱\n",
        "  df0=close.index.searchsorted(close.index-pd.Timedelta(days=1))\n",
        "  df0=df0[df0>0]\n",
        "  df0=pd.Series(close.index[df0-1], index=close.index[close.shape[0]-df0.shape[0]:])\n",
        "  df0=close.loc[df0.index]/close.loc[df0.values].values-1 # 일별 수익률\n",
        "  df0=df0.ewm(span=span0).std()\n",
        "  return df0"
      ],
      "execution_count": 23,
      "outputs": []
    },
    {
      "cell_type": "code",
      "metadata": {
        "colab": {
          "base_uri": "https://localhost:8080/"
        },
        "id": "edCA_ac0Z0RY",
        "outputId": "4c779a59-77ce-4790-8e5b-f96f73d61211"
      },
      "source": [
        "daily_vol = getDailyVol(db.Close, span0=100)\n",
        "daily_vol.mean()"
      ],
      "execution_count": 24,
      "outputs": [
        {
          "output_type": "execute_result",
          "data": {
            "text/plain": [
              "0.012960758569578196"
            ]
          },
          "metadata": {
            "tags": []
          },
          "execution_count": 24
        }
      ]
    },
    {
      "cell_type": "code",
      "metadata": {
        "colab": {
          "base_uri": "https://localhost:8080/",
          "height": 286
        },
        "id": "E8IAnVsGtEPs",
        "outputId": "3483e839-abcb-455b-c164-f943e0676a5d"
      },
      "source": [
        "daily_vol.plot()"
      ],
      "execution_count": 25,
      "outputs": [
        {
          "output_type": "execute_result",
          "data": {
            "text/plain": [
              "<matplotlib.axes._subplots.AxesSubplot at 0x7fbc344228d0>"
            ]
          },
          "metadata": {
            "tags": []
          },
          "execution_count": 25
        },
        {
          "output_type": "display_data",
          "data": {
            "image/png": "[encoded data removed]",
            "text/plain": [
              "<Figure size 432x288 with 1 Axes>"
            ]
          },
          "metadata": {
            "tags": [],
            "needs_background": "light"
          }
        }
      ]
    },
    {
      "cell_type": "code",
      "metadata": {
        "id": "NGsNPFIee1bb"
      },
      "source": [
        "def cumsum_events(df: pd.Series, limit: float):\n",
        "    idx, _up, _dn = [], 0, 0\n",
        "    diff = df.diff()\n",
        "    for i in range(1, len(diff)):\n",
        "        _up, _dn = max(0, _up + diff.iloc[i]), min(0, _dn + diff.iloc[i])\n",
        "        if _up > limit:\n",
        "            _up = 0; idx.append(diff.index[i])\n",
        "        elif _dn < - limit:\n",
        "            _dn = 0; idx.append(diff.index[i])\n",
        "        \n",
        "    return pd.DatetimeIndex(idx)"
      ],
      "execution_count": 26,
      "outputs": []
    },
    {
      "cell_type": "code",
      "metadata": {
        "colab": {
          "base_uri": "https://localhost:8080/"
        },
        "id": "9lZF8kEzewSF",
        "outputId": "f20cd966-4442-4526-c254-39995fa1580c"
      },
      "source": [
        "tEvents = cumsum_events(db.Close, limit = daily_vol.mean())\n",
        "tEvents"
      ],
      "execution_count": 27,
      "outputs": [
        {
          "output_type": "execute_result",
          "data": {
            "text/plain": [
              "DatetimeIndex(['2009-09-29', '2009-09-30', '2009-10-01', '2009-10-02',\n",
              "               '2009-10-05', '2009-10-06', '2009-10-07', '2009-10-08',\n",
              "               '2009-10-09', '2009-10-12',\n",
              "               ...\n",
              "               '2021-02-25', '2021-02-26', '2021-03-01', '2021-03-02',\n",
              "               '2021-03-03', '2021-03-04', '2021-03-05', '2021-03-08',\n",
              "               '2021-03-09', '2021-03-10'],\n",
              "              dtype='datetime64[ns]', length=2823, freq=None)"
            ]
          },
          "metadata": {
            "tags": []
          },
          "execution_count": 27
        }
      ]
    },
    {
      "cell_type": "markdown",
      "metadata": {
        "id": "v5TNIuQERDfM"
      },
      "source": [
        "##### (b) Use Snippet 3.4 on a pandas series t1, where numDays = 1."
      ]
    },
    {
      "cell_type": "code",
      "metadata": {
        "colab": {
          "base_uri": "https://localhost:8080/"
        },
        "id": "D5vHyYJIRE2a",
        "outputId": "0a1ba89e-8022-4576-9185-9dbcc425b2d0"
      },
      "source": [
        "# 버티컬 배리어 추가 \n",
        "t1=db.Close.index.searchsorted(tEvents+pd.Timedelta(days=1)) \n",
        "t1=t1[t1<db.Close.shape[0]] \n",
        "t1=pd.Series(db.Close.index[t1],index=tEvents[:t1.shape[0]]) # NaNs at end\n",
        "t1"
      ],
      "execution_count": 28,
      "outputs": [
        {
          "output_type": "execute_result",
          "data": {
            "text/plain": [
              "2009-09-29   2009-09-30\n",
              "2009-09-30   2009-10-01\n",
              "2009-10-01   2009-10-02\n",
              "2009-10-02   2009-10-05\n",
              "2009-10-05   2009-10-06\n",
              "                ...    \n",
              "2021-03-03   2021-03-04\n",
              "2021-03-04   2021-03-05\n",
              "2021-03-05   2021-03-08\n",
              "2021-03-08   2021-03-09\n",
              "2021-03-09   2021-03-10\n",
              "Name: date, Length: 2822, dtype: datetime64[ns]"
            ]
          },
          "metadata": {
            "tags": []
          },
          "execution_count": 28
        }
      ]
    },
    {
      "cell_type": "markdown",
      "metadata": {
        "id": "JKO-YPsORGsy"
      },
      "source": [
        "##### (c) On those sampled features, apply the triple-barrier method, where ptSl = [1,1] and t1 is the series you created in point 1.b."
      ]
    },
    {
      "cell_type": "code",
      "metadata": {
        "id": "VzVYQ7fCXjMc"
      },
      "source": [
        "# 최초 시간 도달 측정\n",
        "'''\n",
        "ptSl: 두 배리어의 너비, 0: 각 배리어 불능화\n",
        "t1: vertical barrier의 타임스탬프를 가진 series, 무시하려면 False\n",
        "trgt: 목표의 수익률의 절댓값\n",
        "minRet: 트리플-배리어를 검색하기 위한 최소 목표 수익률\n",
        "numThreads: 함수에서 현재 동시에 사용되고 있는 스레드 수\n",
        "'''\n",
        "def getEvents(close, tEvents, ptSl, trgt, minRet, numThreads=1, t1=False, side=None):\n",
        "    # 1) get target\n",
        "    trgt = trgt.loc[trgt.index.intersection(tEvents)]\n",
        "    trgt = trgt[trgt > minRet]\n",
        "    # 2) get t1 (max holding period)\n",
        "    if t1 is False:\n",
        "        t1 = pd.Series(pd.NaT, index=tEvents)\n",
        "    # 3) form events object, apply stop loss on t1\n",
        "    if side is None:\n",
        "        side_, ptSl_ = pd.Series(1.0, index=trgt.index), [ptSl[0], ptSl[0]]\n",
        "    else:\n",
        "        side_, ptSl_ = side.loc[trgt.index], ptSl[:2]\n",
        "    events = pd.concat({'t1': t1, 'trgt': trgt, 'side': side_}, axis=1).dropna(subset=['trgt'])\n",
        "    df0 = mpPandasObj(func=applyPtSlOnT1, pdObj=('molecule', events.index), numThreads=numThreads, close=close, events=events, ptSl=ptSl_)\n",
        "    events['t1'] = df0.dropna(how='all').min(axis=1) # pd.min ignores NaN\n",
        "    if side is None:\n",
        "        events = events.drop('side', axis=1)\n",
        "\n",
        "    # store for later\n",
        "    events['pt'] = ptSl[0]\n",
        "    events['sl'] = ptSl[1]\n",
        "\n",
        "    return events"
      ],
      "execution_count": 29,
      "outputs": []
    },
    {
      "cell_type": "code",
      "metadata": {
        "id": "LG5wA4tFRG7S"
      },
      "source": [
        "def applyPtSlOnT1(close, events, ptSl, molecule):\n",
        "    # apply stop loss/profit taking, if it takes place before t1 (end of event)\n",
        "    events_ = events.loc[molecule]\n",
        "    out = events_[['t1']].copy(deep=True)\n",
        "\n",
        "    if ptSl[0] > 0:\n",
        "        pt = ptSl[0] * events_['trgt']\n",
        "    else:\n",
        "        pt = pd.Series(index=events.index) # NaNs\n",
        "\n",
        "    if ptSl[1] > 0:\n",
        "        sl = - ptSl[1] * events_['trgt']\n",
        "    else:\n",
        "        sl = pd.Series(index=events.index) # 'mo NaNs\n",
        "\n",
        "    for loc, t1 in events_['t1'].fillna(close.index[-1]).iteritems():\n",
        "        df0 = close[loc:t1] # path prices\n",
        "        df0 = (df0 / close[loc] - 1) * events_.at[loc, 'side'] # path returns\n",
        "        out.loc[loc, 'sl'] = df0[df0<sl[loc]].index.min() # earliest stop loss\n",
        "        out.loc[loc, 'pt'] = df0[df0>pt[loc]].index.min() # earliest profit take\n",
        "    return out"
      ],
      "execution_count": 30,
      "outputs": []
    },
    {
      "cell_type": "code",
      "metadata": {
        "id": "4TMILxjrX0VL"
      },
      "source": [
        "events = getEvents(db.Close, tEvents=tEvents, ptSl=[1,1], t1=t1, numThreads=1, trgt=daily_vol, minRet=0.01)"
      ],
      "execution_count": 31,
      "outputs": []
    },
    {
      "cell_type": "code",
      "metadata": {
        "colab": {
          "base_uri": "https://localhost:8080/",
          "height": 204
        },
        "id": "WsEz0aX6tqt_",
        "outputId": "ce5c8f88-1e34-49aa-e55d-8784113c4f71"
      },
      "source": [
        "events.head() "
      ],
      "execution_count": 32,
      "outputs": [
        {
          "output_type": "execute_result",
          "data": {
            "text/html": [
              "<div>\n",
              "<style scoped>\n",
              "    .dataframe tbody tr th:only-of-type {\n",
              "        vertical-align: middle;\n",
              "    }\n",
              "\n",
              "    .dataframe tbody tr th {\n",
              "        vertical-align: top;\n",
              "    }\n",
              "\n",
              "    .dataframe thead th {\n",
              "        text-align: right;\n",
              "    }\n",
              "</style>\n",
              "<table border=\"1\" class=\"dataframe\">\n",
              "  <thead>\n",
              "    <tr style=\"text-align: right;\">\n",
              "      <th></th>\n",
              "      <th>t1</th>\n",
              "      <th>trgt</th>\n",
              "      <th>pt</th>\n",
              "      <th>sl</th>\n",
              "    </tr>\n",
              "  </thead>\n",
              "  <tbody>\n",
              "    <tr>\n",
              "      <th>2009-10-01</th>\n",
              "      <td>2009-10-02</td>\n",
              "      <td>0.011449</td>\n",
              "      <td>1</td>\n",
              "      <td>1</td>\n",
              "    </tr>\n",
              "    <tr>\n",
              "      <th>2009-10-02</th>\n",
              "      <td>2009-10-05</td>\n",
              "      <td>0.013210</td>\n",
              "      <td>1</td>\n",
              "      <td>1</td>\n",
              "    </tr>\n",
              "    <tr>\n",
              "      <th>2009-10-05</th>\n",
              "      <td>2009-10-06</td>\n",
              "      <td>0.023222</td>\n",
              "      <td>1</td>\n",
              "      <td>1</td>\n",
              "    </tr>\n",
              "    <tr>\n",
              "      <th>2009-10-06</th>\n",
              "      <td>2009-10-07</td>\n",
              "      <td>0.027800</td>\n",
              "      <td>1</td>\n",
              "      <td>1</td>\n",
              "    </tr>\n",
              "    <tr>\n",
              "      <th>2009-10-07</th>\n",
              "      <td>2009-10-08</td>\n",
              "      <td>0.025696</td>\n",
              "      <td>1</td>\n",
              "      <td>1</td>\n",
              "    </tr>\n",
              "  </tbody>\n",
              "</table>\n",
              "</div>"
            ],
            "text/plain": [
              "                   t1      trgt  pt  sl\n",
              "2009-10-01 2009-10-02  0.011449   1   1\n",
              "2009-10-02 2009-10-05  0.013210   1   1\n",
              "2009-10-05 2009-10-06  0.023222   1   1\n",
              "2009-10-06 2009-10-07  0.027800   1   1\n",
              "2009-10-07 2009-10-08  0.025696   1   1"
            ]
          },
          "metadata": {
            "tags": []
          },
          "execution_count": 32
        }
      ]
    },
    {
      "cell_type": "markdown",
      "metadata": {
        "id": "sUzzAO0DRIL5"
      },
      "source": [
        "##### (d) Apply getBins to generate the labels."
      ]
    },
    {
      "cell_type": "code",
      "metadata": {
        "id": "9AquFDUREerg"
      },
      "source": [
        "# 방향과 크기를 레이블 \n",
        "'''\n",
        "ret: 최초로 배리어에 도달했을 때 실현된 수익률\n",
        "bin: 결과의 부호에 따른 함수로 된 레이블 {-1, 0, 1}\n",
        "'''\n",
        "def getBins(events,close):\n",
        "  #1) prices aligned with events\n",
        "  events_=events.dropna(subset=['t1']) \n",
        "  px=events_.index.union(events_['t1'].values).drop_duplicates() \n",
        "  px=close.reindex(px,method='bfill')\n",
        "  #2) create out object\n",
        "  out=pd.DataFrame(index=events_.index) \n",
        "  out['ret']=px.loc[events_['t1'].values].values/px.loc[events_.index]-1 \n",
        "  out['bin']=np.sign(out['ret'])\n",
        "  return out"
      ],
      "execution_count": 33,
      "outputs": []
    },
    {
      "cell_type": "code",
      "metadata": {
        "id": "Ojis5np9EsCb"
      },
      "source": [
        "bins = getBins(events, db.Close)"
      ],
      "execution_count": 34,
      "outputs": []
    },
    {
      "cell_type": "code",
      "metadata": {
        "colab": {
          "base_uri": "https://localhost:8080/",
          "height": 204
        },
        "id": "J835DKrfFvip",
        "outputId": "a983adb0-d8e1-44b4-8f2d-a60ff7957483"
      },
      "source": [
        "bins.head()"
      ],
      "execution_count": 35,
      "outputs": [
        {
          "output_type": "execute_result",
          "data": {
            "text/html": [
              "<div>\n",
              "<style scoped>\n",
              "    .dataframe tbody tr th:only-of-type {\n",
              "        vertical-align: middle;\n",
              "    }\n",
              "\n",
              "    .dataframe tbody tr th {\n",
              "        vertical-align: top;\n",
              "    }\n",
              "\n",
              "    .dataframe thead th {\n",
              "        text-align: right;\n",
              "    }\n",
              "</style>\n",
              "<table border=\"1\" class=\"dataframe\">\n",
              "  <thead>\n",
              "    <tr style=\"text-align: right;\">\n",
              "      <th></th>\n",
              "      <th>ret</th>\n",
              "      <th>bin</th>\n",
              "    </tr>\n",
              "  </thead>\n",
              "  <tbody>\n",
              "    <tr>\n",
              "      <th>2009-10-01</th>\n",
              "      <td>-0.016030</td>\n",
              "      <td>-1.0</td>\n",
              "    </tr>\n",
              "    <tr>\n",
              "      <th>2009-10-02</th>\n",
              "      <td>0.019871</td>\n",
              "      <td>1.0</td>\n",
              "    </tr>\n",
              "    <tr>\n",
              "      <th>2009-10-05</th>\n",
              "      <td>0.012005</td>\n",
              "      <td>1.0</td>\n",
              "    </tr>\n",
              "    <tr>\n",
              "      <th>2009-10-06</th>\n",
              "      <td>0.003074</td>\n",
              "      <td>1.0</td>\n",
              "    </tr>\n",
              "    <tr>\n",
              "      <th>2009-10-07</th>\n",
              "      <td>0.006300</td>\n",
              "      <td>1.0</td>\n",
              "    </tr>\n",
              "  </tbody>\n",
              "</table>\n",
              "</div>"
            ],
            "text/plain": [
              "                 ret  bin\n",
              "2009-10-01 -0.016030 -1.0\n",
              "2009-10-02  0.019871  1.0\n",
              "2009-10-05  0.012005  1.0\n",
              "2009-10-06  0.003074  1.0\n",
              "2009-10-07  0.006300  1.0"
            ]
          },
          "metadata": {
            "tags": []
          },
          "execution_count": 35
        }
      ]
    },
    {
      "cell_type": "code",
      "metadata": {
        "colab": {
          "base_uri": "https://localhost:8080/"
        },
        "id": "nVue3cC9F51q",
        "outputId": "0ab39c6d-03ff-404d-c18e-2c0d50826a8e"
      },
      "source": [
        "bins['bin'].value_counts()"
      ],
      "execution_count": 36,
      "outputs": [
        {
          "output_type": "execute_result",
          "data": {
            "text/plain": [
              " 1.0    1016\n",
              "-1.0     852\n",
              " 0.0      10\n",
              "Name: bin, dtype: int64"
            ]
          },
          "metadata": {
            "tags": []
          },
          "execution_count": 36
        }
      ]
    },
    {
      "cell_type": "markdown",
      "metadata": {
        "id": "s7g3zhMdGEGb"
      },
      "source": [
        "### `ex 3.2` \n",
        "\n",
        "From exercise 1, use Snippet 3.8 to drop rare labels."
      ]
    },
    {
      "cell_type": "code",
      "metadata": {
        "id": "1d_98iMFJGG9"
      },
      "source": [
        "def dropLabels(events, mitPct=0.05):\n",
        "    # apply weights, drop labels with insufficient examples\n",
        "    while True:\n",
        "        df0 = events['bin'].value_counts(normalize=True)\n",
        "        if df0.min() > mitPct or df0.shape[0] < 3:\n",
        "            break\n",
        "        print(\"Dropped label\", df0.argmin(), df0.min())\n",
        "        events = events[events['bin'] != df0.index[df0.argmin()]]\n",
        "    return events"
      ],
      "execution_count": 37,
      "outputs": []
    },
    {
      "cell_type": "code",
      "metadata": {
        "colab": {
          "base_uri": "https://localhost:8080/",
          "height": 221
        },
        "id": "7zoFzo60JIPA",
        "outputId": "3f432f5c-adf7-408e-fef4-8596b0309608"
      },
      "source": [
        "dropLabels(bins).head()"
      ],
      "execution_count": 38,
      "outputs": [
        {
          "output_type": "stream",
          "text": [
            "Dropped label 2 0.005324813631522897\n"
          ],
          "name": "stdout"
        },
        {
          "output_type": "execute_result",
          "data": {
            "text/html": [
              "<div>\n",
              "<style scoped>\n",
              "    .dataframe tbody tr th:only-of-type {\n",
              "        vertical-align: middle;\n",
              "    }\n",
              "\n",
              "    .dataframe tbody tr th {\n",
              "        vertical-align: top;\n",
              "    }\n",
              "\n",
              "    .dataframe thead th {\n",
              "        text-align: right;\n",
              "    }\n",
              "</style>\n",
              "<table border=\"1\" class=\"dataframe\">\n",
              "  <thead>\n",
              "    <tr style=\"text-align: right;\">\n",
              "      <th></th>\n",
              "      <th>ret</th>\n",
              "      <th>bin</th>\n",
              "    </tr>\n",
              "  </thead>\n",
              "  <tbody>\n",
              "    <tr>\n",
              "      <th>2009-10-01</th>\n",
              "      <td>-0.016030</td>\n",
              "      <td>-1.0</td>\n",
              "    </tr>\n",
              "    <tr>\n",
              "      <th>2009-10-02</th>\n",
              "      <td>0.019871</td>\n",
              "      <td>1.0</td>\n",
              "    </tr>\n",
              "    <tr>\n",
              "      <th>2009-10-05</th>\n",
              "      <td>0.012005</td>\n",
              "      <td>1.0</td>\n",
              "    </tr>\n",
              "    <tr>\n",
              "      <th>2009-10-06</th>\n",
              "      <td>0.003074</td>\n",
              "      <td>1.0</td>\n",
              "    </tr>\n",
              "    <tr>\n",
              "      <th>2009-10-07</th>\n",
              "      <td>0.006300</td>\n",
              "      <td>1.0</td>\n",
              "    </tr>\n",
              "  </tbody>\n",
              "</table>\n",
              "</div>"
            ],
            "text/plain": [
              "                 ret  bin\n",
              "2009-10-01 -0.016030 -1.0\n",
              "2009-10-02  0.019871  1.0\n",
              "2009-10-05  0.012005  1.0\n",
              "2009-10-06  0.003074  1.0\n",
              "2009-10-07  0.006300  1.0"
            ]
          },
          "metadata": {
            "tags": []
          },
          "execution_count": 38
        }
      ]
    },
    {
      "cell_type": "markdown",
      "metadata": {
        "id": "RJ2fPk2TMRhP"
      },
      "source": [
        "### `ex 3.3`\n",
        "\n",
        "Adjust the getBins function (Snippet 3.5) to return a 0 whenever the vertical barrier is the first one touched."
      ]
    },
    {
      "cell_type": "code",
      "metadata": {
        "id": "Qc8H088zMRK2"
      },
      "source": [
        "def barrier_touched(out_df, events):\n",
        "    # We'll graciously use the barrier_touched method from\n",
        "    # https://github.com/hudson-and-thames/mlfinlab/blob/master/mlfinlab/labeling/labeling.py#L164\n",
        "    store = []\n",
        "    for date_time, values in out_df.iterrows():\n",
        "        ret = values['ret']\n",
        "        target = values['trgt']\n",
        "\n",
        "        pt_level_reached = ret > target * events.loc[date_time, 'pt']\n",
        "        sl_level_reached = ret < -target * events.loc[date_time, 'sl']\n",
        "\n",
        "        if ret > 0.0 and pt_level_reached:\n",
        "            # Top barrier reached\n",
        "            store.append(1)\n",
        "        elif ret < 0.0 and sl_level_reached:\n",
        "            # Bottom barrier reached\n",
        "            store.append(-1)\n",
        "        else:\n",
        "            # Vertical barrier reached\n",
        "            store.append(0)\n",
        "\n",
        "    # Save to 'bin' column and return\n",
        "    out_df['bin'] = store\n",
        "    return out_df\n",
        "\n",
        "\n",
        "def getBins(events, close):\n",
        "    '''\n",
        "    Compute event's outcome (including side information, if provided).\n",
        "    events is a DataFrame where:\n",
        "    -events.index is event's starttime\n",
        "    -events['t1'] is event's endtime\n",
        "    -events['trgt'] is event's target\n",
        "    -events['side'] (optional) implies the algo's position side\n",
        "    Case 1: ('side' not in events): bin in (-1, 1) <- label by price action\n",
        "    Case 2: ('side' in events): bin in (0, 1) <- label by pnl (meta-labeling)\n",
        "    '''\n",
        "    # 1) prices aligned with events\n",
        "    events_ = events.dropna(subset=['t1'])\n",
        "    px = events_.index.union(events_['t1'].values).drop_duplicates()\n",
        "    px = close.reindex(px, method='bfill')\n",
        "    # 2) create out object\n",
        "    out = pd.DataFrame(index=events_.index)\n",
        "\n",
        "    out['ret'] = px.loc[events_['t1'].values].values / px.loc[events_.index] - 1\n",
        "    if 'side' in events_:\n",
        "        out['ret'] *= events_['side']  # meta-labeling\n",
        "\n",
        "    out['trgt'] = events_['trgt']\n",
        "    out = barrier_touched(out, events)\n",
        "\n",
        "    if 'side' in events_:\n",
        "        out.loc[out['ret'] <= 0, 'bin'] = 0\n",
        "        \n",
        "    if 'side' in events_:\n",
        "        out['side'] = events['side']\n",
        "    return out"
      ],
      "execution_count": 39,
      "outputs": []
    },
    {
      "cell_type": "code",
      "metadata": {
        "id": "UdLkfLHmQSuK"
      },
      "source": [
        "bins = getBins(events, db.Close)"
      ],
      "execution_count": 40,
      "outputs": []
    },
    {
      "cell_type": "code",
      "metadata": {
        "colab": {
          "base_uri": "https://localhost:8080/"
        },
        "id": "sBuuNqayQUFW",
        "outputId": "d641eb03-7188-453e-b18b-4eb39538d462"
      },
      "source": [
        "bins['bin'].value_counts()"
      ],
      "execution_count": 41,
      "outputs": [
        {
          "output_type": "execute_result",
          "data": {
            "text/plain": [
              " 0    1589\n",
              "-1     145\n",
              " 1     144\n",
              "Name: bin, dtype: int64"
            ]
          },
          "metadata": {
            "tags": []
          },
          "execution_count": 41
        }
      ]
    },
    {
      "cell_type": "markdown",
      "metadata": {
        "id": "0xeYA3LCvWBB"
      },
      "source": [
        "### `ex 3.4`\n",
        "\n",
        "Develop a trend-following strategy based on a popular technical analysis statistic (e.g. MA Crossover). For each observation, the model suggests a side, but not a size of the bet.\n",
        "\n",
        "##### (a) Derive meta-labels for ptSl = [1,2] and t1 where numDays=1. Use as trgt the daily standard deviation as computed by Snippet 3.1."
      ]
    },
    {
      "cell_type": "code",
      "metadata": {
        "id": "_3wY7JXkVn27"
      },
      "source": [
        "def getVerticalBarriers(close, tEvents, numDays):\n",
        "    t1 = close.index.searchsorted(tEvents+pd.Timedelta(days=numDays))\n",
        "    t1 = t1[t1 < close.shape[0]]\n",
        "    t1 = pd.Series(close.index[t1], index=tEvents[:t1.shape[0]]) # NaNs at the end\n",
        "    return t1"
      ],
      "execution_count": 42,
      "outputs": []
    },
    {
      "cell_type": "code",
      "metadata": {
        "id": "KEu9Dd_zZHnN"
      },
      "source": [
        "df = db.copy().truncate(before='2017')\n",
        "tEvents = cusum(df['Close'], getDailyVol(df['Close']).mean())\n",
        "t1 = getVerticalBarriers(df['Close'], tEvents, numDays=1)\n",
        "events = getEvents(df.Close, tEvents=tEvents, ptSl=[1,2], t1=t1, trgt=daily_vol, minRet=0.01)"
      ],
      "execution_count": 43,
      "outputs": []
    },
    {
      "cell_type": "code",
      "metadata": {
        "id": "9yL_UBW8Ui65"
      },
      "source": [
        "slow_ma = df.Close.rolling(100).mean()\n",
        "fast_ma = df.Close.rolling(10).mean()\n",
        "\n",
        "long_signals = (fast_ma >= slow_ma)\n",
        "short_signals = (fast_ma < slow_ma)\n",
        "close = df['Close']\n",
        "\n",
        "events.loc[long_signals, 'side'] = 1\n",
        "events.loc[short_signals, 'side'] = -1\n",
        "events['side'] = events['side'].shift()"
      ],
      "execution_count": 44,
      "outputs": []
    },
    {
      "cell_type": "code",
      "metadata": {
        "colab": {
          "base_uri": "https://localhost:8080/",
          "height": 204
        },
        "id": "UQUhrl8KUm5s",
        "outputId": "911017f4-f638-4c33-8cfb-e19c9a2a8427"
      },
      "source": [
        "events.head()"
      ],
      "execution_count": 45,
      "outputs": [
        {
          "output_type": "execute_result",
          "data": {
            "text/html": [
              "<div>\n",
              "<style scoped>\n",
              "    .dataframe tbody tr th:only-of-type {\n",
              "        vertical-align: middle;\n",
              "    }\n",
              "\n",
              "    .dataframe tbody tr th {\n",
              "        vertical-align: top;\n",
              "    }\n",
              "\n",
              "    .dataframe thead th {\n",
              "        text-align: right;\n",
              "    }\n",
              "</style>\n",
              "<table border=\"1\" class=\"dataframe\">\n",
              "  <thead>\n",
              "    <tr style=\"text-align: right;\">\n",
              "      <th></th>\n",
              "      <th>t1</th>\n",
              "      <th>trgt</th>\n",
              "      <th>pt</th>\n",
              "      <th>sl</th>\n",
              "      <th>side</th>\n",
              "    </tr>\n",
              "  </thead>\n",
              "  <tbody>\n",
              "    <tr>\n",
              "      <th>2018-02-07</th>\n",
              "      <td>2018-02-08</td>\n",
              "      <td>0.010212</td>\n",
              "      <td>1</td>\n",
              "      <td>2</td>\n",
              "      <td>NaN</td>\n",
              "    </tr>\n",
              "    <tr>\n",
              "      <th>2018-02-08</th>\n",
              "      <td>2018-02-09</td>\n",
              "      <td>0.011324</td>\n",
              "      <td>1</td>\n",
              "      <td>2</td>\n",
              "      <td>1.0</td>\n",
              "    </tr>\n",
              "    <tr>\n",
              "      <th>2018-02-20</th>\n",
              "      <td>2018-02-21</td>\n",
              "      <td>0.011981</td>\n",
              "      <td>1</td>\n",
              "      <td>2</td>\n",
              "      <td>1.0</td>\n",
              "    </tr>\n",
              "    <tr>\n",
              "      <th>2018-02-21</th>\n",
              "      <td>2018-02-22</td>\n",
              "      <td>0.012094</td>\n",
              "      <td>1</td>\n",
              "      <td>2</td>\n",
              "      <td>-1.0</td>\n",
              "    </tr>\n",
              "    <tr>\n",
              "      <th>2018-02-27</th>\n",
              "      <td>2018-02-28</td>\n",
              "      <td>0.011972</td>\n",
              "      <td>1</td>\n",
              "      <td>2</td>\n",
              "      <td>-1.0</td>\n",
              "    </tr>\n",
              "  </tbody>\n",
              "</table>\n",
              "</div>"
            ],
            "text/plain": [
              "                   t1      trgt  pt  sl  side\n",
              "2018-02-07 2018-02-08  0.010212   1   2   NaN\n",
              "2018-02-08 2018-02-09  0.011324   1   2   1.0\n",
              "2018-02-20 2018-02-21  0.011981   1   2   1.0\n",
              "2018-02-21 2018-02-22  0.012094   1   2  -1.0\n",
              "2018-02-27 2018-02-28  0.011972   1   2  -1.0"
            ]
          },
          "metadata": {
            "tags": []
          },
          "execution_count": 45
        }
      ]
    },
    {
      "cell_type": "code",
      "metadata": {
        "colab": {
          "base_uri": "https://localhost:8080/"
        },
        "id": "4XwqAtsJUtWU",
        "outputId": "e129a225-a5fe-4811-ddda-b39946fe8487"
      },
      "source": [
        "bins['bin'].value_counts()"
      ],
      "execution_count": 46,
      "outputs": [
        {
          "output_type": "execute_result",
          "data": {
            "text/plain": [
              " 0    1589\n",
              "-1     145\n",
              " 1     144\n",
              "Name: bin, dtype: int64"
            ]
          },
          "metadata": {
            "tags": []
          },
          "execution_count": 46
        }
      ]
    },
    {
      "cell_type": "markdown",
      "metadata": {
        "id": "Hu02xpjzWSdj"
      },
      "source": [
        "(b) Train a random forest to decide whether to trade or not. Note: The decision is whether to trade or not, {0,1}, since the underlying model (the crossing moving average) has decided the side, {-1, 1}."
      ]
    },
    {
      "cell_type": "code",
      "metadata": {
        "id": "Oj63XdOAWP1P"
      },
      "source": [
        "from sklearn.ensemble import RandomForestClassifier\n",
        "from sklearn.metrics import accuracy_score\n",
        "from sklearn.metrics import confusion_matrix\n",
        "\n",
        "rf = RandomForestClassifier(n_estimators=1000, random_state=42)"
      ],
      "execution_count": 47,
      "outputs": []
    },
    {
      "cell_type": "code",
      "metadata": {
        "id": "OsmWZO67WbvW"
      },
      "source": [
        "df['log_ret'] = np.log(df.Close).diff() \n",
        "# 변동성\n",
        "df['vol5'] = df['log_ret'].rolling(5).std() \n",
        "df['vol10'] = df['log_ret'].rolling(10).std()\n",
        "df['vol15'] = df['log_ret'].rolling(15).std()\n",
        "\n",
        "# 계열 상관관계\n",
        "df['serialcorr20-1'] = df['log_ret'].rolling(20).apply(lambda x: pd.Series(x).autocorr(lag=1))\n",
        "df['serialcorr20-2'] = df['log_ret'].rolling(20).apply(lambda x: pd.Series(x).autocorr(lag=2))\n",
        "df['serialcorr20-3'] = df['log_ret'].rolling(20).apply(lambda x: pd.Series(x).autocorr(lag=3))\n",
        "\n",
        "df.loc[long_signals, 'side'] = 1\n",
        "df.loc[short_signals, 'side'] = -1\n",
        "df['side'] = df['side'].shift()"
      ],
      "execution_count": 48,
      "outputs": []
    },
    {
      "cell_type": "code",
      "metadata": {
        "id": "WjuTFrKrW3zn"
      },
      "source": [
        "train_features = df.loc[events.index][['side', 'vol5', 'vol10', 'vol15', 'serialcorr20-1', 'serialcorr20-2', 'serialcorr20-3']]\n",
        "train_labels = bins.loc[events.index]['bin']"
      ],
      "execution_count": 49,
      "outputs": []
    },
    {
      "cell_type": "code",
      "metadata": {
        "colab": {
          "base_uri": "https://localhost:8080/"
        },
        "id": "xtZTFcO8W5Z6",
        "outputId": "4b27cb34-6472-44a0-f388-0792a98b2b9c"
      },
      "source": [
        "rf.fit(train_features, train_labels)"
      ],
      "execution_count": 50,
      "outputs": [
        {
          "output_type": "execute_result",
          "data": {
            "text/plain": [
              "RandomForestClassifier(bootstrap=True, ccp_alpha=0.0, class_weight=None,\n",
              "                       criterion='gini', max_depth=None, max_features='auto',\n",
              "                       max_leaf_nodes=None, max_samples=None,\n",
              "                       min_impurity_decrease=0.0, min_impurity_split=None,\n",
              "                       min_samples_leaf=1, min_samples_split=2,\n",
              "                       min_weight_fraction_leaf=0.0, n_estimators=1000,\n",
              "                       n_jobs=None, oob_score=False, random_state=42, verbose=0,\n",
              "                       warm_start=False)"
            ]
          },
          "metadata": {
            "tags": []
          },
          "execution_count": 50
        }
      ]
    },
    {
      "cell_type": "code",
      "metadata": {
        "id": "4BLnLbXZXiJz"
      },
      "source": [
        "prediction = rf.predict(train_features)"
      ],
      "execution_count": 51,
      "outputs": []
    },
    {
      "cell_type": "code",
      "metadata": {
        "id": "L0FCcPOD3mk_"
      },
      "source": [
        "decision_trade = train_labels * prediction"
      ],
      "execution_count": 65,
      "outputs": []
    },
    {
      "cell_type": "code",
      "metadata": {
        "colab": {
          "base_uri": "https://localhost:8080/"
        },
        "id": "EEQyK78h4E5g",
        "outputId": "040141ce-74f2-407c-e1ee-b5c6c92cf978"
      },
      "source": [
        "decision_trade.value_counts()"
      ],
      "execution_count": 66,
      "outputs": [
        {
          "output_type": "execute_result",
          "data": {
            "text/plain": [
              "0    232\n",
              "1     52\n",
              "Name: bin, dtype: int64"
            ]
          },
          "metadata": {
            "tags": []
          },
          "execution_count": 66
        }
      ]
    },
    {
      "cell_type": "markdown",
      "metadata": {
        "id": "R-gvWw1vb0io"
      },
      "source": [
        "### `ex 3.5`\n",
        "\n",
        "Develop a mean-reverting strategy based on Bollinger Bands. For each observation, the model suggests a side, but not a size of the bet.\n",
        "\n",
        "\n",
        "##### (a) Derive meta-labels for ptSl = [0,2] and t1 where numDays=1. Use as trgt the daily standard deviation."
      ]
    },
    {
      "cell_type": "code",
      "metadata": {
        "colab": {
          "base_uri": "https://localhost:8080/",
          "height": 292
        },
        "id": "ZHA_g1RPb0Fm",
        "outputId": "4eb04497-5ddf-4d5b-9785-a8d90e1760db"
      },
      "source": [
        "events = getEvents(close, tEvents=tEvents, ptSl=[0,2], t1=t1, trgt=daily_vol, minRet=0.01)\n",
        "events.head()"
      ],
      "execution_count": 54,
      "outputs": [
        {
          "output_type": "stream",
          "text": [
            "/usr/local/lib/python3.7/dist-packages/ipykernel_launcher.py:9: DeprecationWarning: The default dtype for empty Series will be 'object' instead of 'float64' in a future version. Specify a dtype explicitly to silence this warning.\n",
            "  if __name__ == '__main__':\n",
            "/usr/local/lib/python3.7/dist-packages/ipykernel_launcher.py:14: DeprecationWarning: The default dtype for empty Series will be 'object' instead of 'float64' in a future version. Specify a dtype explicitly to silence this warning.\n",
            "  \n"
          ],
          "name": "stderr"
        },
        {
          "output_type": "execute_result",
          "data": {
            "text/html": [
              "<div>\n",
              "<style scoped>\n",
              "    .dataframe tbody tr th:only-of-type {\n",
              "        vertical-align: middle;\n",
              "    }\n",
              "\n",
              "    .dataframe tbody tr th {\n",
              "        vertical-align: top;\n",
              "    }\n",
              "\n",
              "    .dataframe thead th {\n",
              "        text-align: right;\n",
              "    }\n",
              "</style>\n",
              "<table border=\"1\" class=\"dataframe\">\n",
              "  <thead>\n",
              "    <tr style=\"text-align: right;\">\n",
              "      <th></th>\n",
              "      <th>t1</th>\n",
              "      <th>trgt</th>\n",
              "      <th>pt</th>\n",
              "      <th>sl</th>\n",
              "    </tr>\n",
              "  </thead>\n",
              "  <tbody>\n",
              "    <tr>\n",
              "      <th>2018-02-07</th>\n",
              "      <td>2018-02-08</td>\n",
              "      <td>0.010212</td>\n",
              "      <td>0</td>\n",
              "      <td>2</td>\n",
              "    </tr>\n",
              "    <tr>\n",
              "      <th>2018-02-08</th>\n",
              "      <td>2018-02-09</td>\n",
              "      <td>0.011324</td>\n",
              "      <td>0</td>\n",
              "      <td>2</td>\n",
              "    </tr>\n",
              "    <tr>\n",
              "      <th>2018-02-20</th>\n",
              "      <td>2018-02-21</td>\n",
              "      <td>0.011981</td>\n",
              "      <td>0</td>\n",
              "      <td>2</td>\n",
              "    </tr>\n",
              "    <tr>\n",
              "      <th>2018-02-21</th>\n",
              "      <td>2018-02-22</td>\n",
              "      <td>0.012094</td>\n",
              "      <td>0</td>\n",
              "      <td>2</td>\n",
              "    </tr>\n",
              "    <tr>\n",
              "      <th>2018-02-27</th>\n",
              "      <td>2018-02-28</td>\n",
              "      <td>0.011972</td>\n",
              "      <td>0</td>\n",
              "      <td>2</td>\n",
              "    </tr>\n",
              "  </tbody>\n",
              "</table>\n",
              "</div>"
            ],
            "text/plain": [
              "                   t1      trgt  pt  sl\n",
              "2018-02-07 2018-02-08  0.010212   0   2\n",
              "2018-02-08 2018-02-09  0.011324   0   2\n",
              "2018-02-20 2018-02-21  0.011981   0   2\n",
              "2018-02-21 2018-02-22  0.012094   0   2\n",
              "2018-02-27 2018-02-28  0.011972   0   2"
            ]
          },
          "metadata": {
            "tags": []
          },
          "execution_count": 54
        }
      ]
    },
    {
      "cell_type": "markdown",
      "metadata": {
        "id": "uQ4_MzxecLSf"
      },
      "source": [
        "##### (b) Train a random forest to decide whether to trade or not. Use as features: volatility, serial correlation, and the crossing moving averages from exercise 2."
      ]
    },
    {
      "cell_type": "code",
      "metadata": {
        "id": "rukOrO5lcIqk"
      },
      "source": [
        "def bbands(close, window, stdev=2):\n",
        "    ma = close.rolling(window).mean()\n",
        "    std = close.rolling(window).std()\n",
        "    return (ma + stdev * std, ma - stdev * std)\n",
        "    \n",
        "df['bb_upper_band'], df['bb_lower_band'] = bbands(close, 100, 2)\n",
        "short_signals = close > df['bb_upper_band']\n",
        "long_signals = close < df['bb_lower_band']\n",
        "\n",
        "df['side'] = np.nan\n",
        "df.loc[long_signals, 'side'] = 1\n",
        "df.loc[short_signals, 'side'] = -1\n",
        "df['side'] = df['side'].ffill() # long until we're short\n",
        "df = df.shift() # No look-ahead"
      ],
      "execution_count": 55,
      "outputs": []
    },
    {
      "cell_type": "code",
      "metadata": {
        "colab": {
          "base_uri": "https://localhost:8080/"
        },
        "id": "dB2K0Sc8ZQUZ",
        "outputId": "ed7b497a-03c5-4104-d6b9-a0bef6950ca0"
      },
      "source": [
        "df.side.value_counts()"
      ],
      "execution_count": 56,
      "outputs": [
        {
          "output_type": "execute_result",
          "data": {
            "text/plain": [
              " 1.0    443\n",
              "-1.0    431\n",
              "Name: side, dtype: int64"
            ]
          },
          "metadata": {
            "tags": []
          },
          "execution_count": 56
        }
      ]
    },
    {
      "cell_type": "code",
      "metadata": {
        "colab": {
          "base_uri": "https://localhost:8080/"
        },
        "id": "9jvY7h6BcYY8",
        "outputId": "36540cf9-d042-4e68-ad30-09efb3c2fee9"
      },
      "source": [
        "train_features = df.loc[events.index][['side', 'vol5', 'vol10', 'vol15', 'serialcorr20-1', 'serialcorr20-2', 'serialcorr20-3']]\n",
        "train_labels = bins.loc[events.index]['bin']\n",
        "\n",
        "rf = RandomForestClassifier(n_estimators=100, random_state=10, max_depth=5)\n",
        "rf.fit(train_features, train_labels)"
      ],
      "execution_count": 57,
      "outputs": [
        {
          "output_type": "execute_result",
          "data": {
            "text/plain": [
              "RandomForestClassifier(bootstrap=True, ccp_alpha=0.0, class_weight=None,\n",
              "                       criterion='gini', max_depth=5, max_features='auto',\n",
              "                       max_leaf_nodes=None, max_samples=None,\n",
              "                       min_impurity_decrease=0.0, min_impurity_split=None,\n",
              "                       min_samples_leaf=1, min_samples_split=2,\n",
              "                       min_weight_fraction_leaf=0.0, n_estimators=100,\n",
              "                       n_jobs=None, oob_score=False, random_state=10, verbose=0,\n",
              "                       warm_start=False)"
            ]
          },
          "metadata": {
            "tags": []
          },
          "execution_count": 57
        }
      ]
    },
    {
      "cell_type": "markdown",
      "metadata": {
        "id": "8ggCctL5fG4S"
      },
      "source": [
        "##### (c) What is the accuracy of predictions from the primary model (i.e. if the secondary model does not filter the bets)? What are the precision, recall, and F-1 scores?"
      ]
    },
    {
      "cell_type": "code",
      "metadata": {
        "id": "t9KvSgVWlpdG"
      },
      "source": [
        "prediction2 = rf.predict(train_features)"
      ],
      "execution_count": 58,
      "outputs": []
    },
    {
      "cell_type": "code",
      "metadata": {
        "colab": {
          "base_uri": "https://localhost:8080/"
        },
        "id": "0cCtYQbaeIRX",
        "outputId": "485a7656-7bc8-4416-a18f-aa62e3268479"
      },
      "source": [
        "from sklearn.metrics import roc_curve\n",
        "from sklearn.metrics import classification_report\n",
        "from sklearn.metrics import confusion_matrix\n",
        "from sklearn.metrics import accuracy_score\n",
        "\n",
        "primary_forecast = pd.DataFrame(train_labels.values)\n",
        "primary_forecast['pred'] = train_features['side'].values\n",
        "primary_forecast.columns = ['actual', 'pred']\n",
        "\n",
        "# Performance Metrics\n",
        "actual = primary_forecast['actual']\n",
        "pred = primary_forecast['pred']\n",
        "print(classification_report(y_true=actual, y_pred=pred))\n",
        "\n",
        "print(\"Confusion Matrix\")\n",
        "print(confusion_matrix(actual, pred))\n",
        "\n",
        "print('')\n",
        "print(\"Accuracy\")\n",
        "print(accuracy_score(actual, pred)) # 실제는 1, 예측은 0 "
      ],
      "execution_count": 59,
      "outputs": [
        {
          "output_type": "stream",
          "text": [
            "              precision    recall  f1-score   support\n",
            "\n",
            "          -1       0.10      0.33      0.16        30\n",
            "           0       0.00      0.00      0.00       232\n",
            "           1       0.07      0.59      0.12        22\n",
            "\n",
            "    accuracy                           0.08       284\n",
            "   macro avg       0.06      0.31      0.09       284\n",
            "weighted avg       0.02      0.08      0.03       284\n",
            "\n",
            "Confusion Matrix\n",
            "[[ 10   0  20]\n",
            " [ 79   0 153]\n",
            " [  9   0  13]]\n",
            "\n",
            "Accuracy\n",
            "0.08098591549295775\n"
          ],
          "name": "stdout"
        },
        {
          "output_type": "stream",
          "text": [
            "/usr/local/lib/python3.7/dist-packages/sklearn/metrics/_classification.py:1272: UndefinedMetricWarning: Precision and F-score are ill-defined and being set to 0.0 in labels with no predicted samples. Use `zero_division` parameter to control this behavior.\n",
            "  _warn_prf(average, modifier, msg_start, len(result))\n"
          ],
          "name": "stderr"
        }
      ]
    },
    {
      "cell_type": "markdown",
      "metadata": {
        "id": "Ild5_hkrmVge"
      },
      "source": [
        "##### (d) What is the accuracy of prediction from the secondary model? What are the precision, recall, and F1-scores?"
      ]
    },
    {
      "cell_type": "code",
      "metadata": {
        "colab": {
          "base_uri": "https://localhost:8080/"
        },
        "id": "iYwgkXPOfkya",
        "outputId": "13bcc868-b498-44f9-e999-cc8b5ea0be92"
      },
      "source": [
        "y_train = train_labels.values\n",
        "X_train = train_features\n",
        "\n",
        "# Performance Metrics\n",
        "y_pred_rf = rf.predict_proba(X_train)[:, 1]\n",
        "y_pred = rf.predict(X_train)\n",
        "\n",
        "print(classification_report(y_true=actual, y_pred=pred))\n",
        "print(\"Confusion Matrix\")\n",
        "print(confusion_matrix(y_train, y_pred))\n",
        "\n",
        "print('')\n",
        "print(\"Accuracy\")\n",
        "print(accuracy_score(y_train, y_pred))"
      ],
      "execution_count": 60,
      "outputs": [
        {
          "output_type": "stream",
          "text": [
            "              precision    recall  f1-score   support\n",
            "\n",
            "          -1       0.10      0.33      0.16        30\n",
            "           0       0.00      0.00      0.00       232\n",
            "           1       0.07      0.59      0.12        22\n",
            "\n",
            "    accuracy                           0.08       284\n",
            "   macro avg       0.06      0.31      0.09       284\n",
            "weighted avg       0.02      0.08      0.03       284\n",
            "\n",
            "Confusion Matrix\n",
            "[[  6  24   0]\n",
            " [  0 232   0]\n",
            " [  0  15   7]]\n",
            "\n",
            "Accuracy\n",
            "0.8626760563380281\n"
          ],
          "name": "stdout"
        },
        {
          "output_type": "stream",
          "text": [
            "/usr/local/lib/python3.7/dist-packages/sklearn/metrics/_classification.py:1272: UndefinedMetricWarning: Precision and F-score are ill-defined and being set to 0.0 in labels with no predicted samples. Use `zero_division` parameter to control this behavior.\n",
            "  _warn_prf(average, modifier, msg_start, len(result))\n"
          ],
          "name": "stderr"
        }
      ]
    }
  ]
}