{
  "nbformat": 4,
  "nbformat_minor": 0,
  "metadata": {
    "colab": {
      "name": "Chapter 2.ipynb",
      "provenance": [],
      "collapsed_sections": []
    },
    "kernelspec": {
      "name": "python3",
      "display_name": "Python 3"
    }
  },
  "cells": [
    {
      "cell_type": "code",
      "metadata": {
        "id": "t9yfn4nCYAoQ"
      },
      "source": [
        "import numpy as np\n",
        "import pandas as pd \n",
        "from numba import jit\n",
        "from tqdm import tqdm\n",
        "\n",
        "import matplotlib as mpl\n",
        "import matplotlib.pyplot as plt"
      ],
      "execution_count": null,
      "outputs": []
    },
    {
      "cell_type": "markdown",
      "metadata": {
        "id": "uigBOVKraZNu"
      },
      "source": [
        "### Data Preparation"
      ]
    },
    {
      "cell_type": "code",
      "metadata": {
        "id": "25QBo4z6PE25"
      },
      "source": [
        "def prepare_data_kibot(raw_data_path, out_data_path):\n",
        "    df = pd.read_csv(raw_data_path,\n",
        "                     header=None,\n",
        "                     names=['day', 'time', 'price', 'bid', 'ask', 'vol'])\n",
        "    df['date'] = pd.to_datetime(df['day'] + df['time'],\n",
        "                                format='%m/%d/%Y%H:%M:%S')\n",
        "    df['dollar_vol'] = df['price']*df['vol']\n",
        "    df = df.set_index('date')\n",
        "    df = df.drop(['day', 'time'],\n",
        "                 axis=1)\n",
        "    df = df.drop_duplicates()\n",
        "    df.to_parquet(out_data_path)"
      ],
      "execution_count": null,
      "outputs": []
    },
    {
      "cell_type": "code",
      "metadata": {
        "id": "ArnyZKuHXid5"
      },
      "source": [
        "raw_data_path = '/content/drive/MyDrive/퀀트/data/IVE_tickbidask.txt'\n",
        "out_data_path = '/content/drive/MyDrive/퀀트/data/IVE_tickbidask.parq'\n",
        "prepare_data_kibot(raw_data_path, out_data_path)"
      ],
      "execution_count": null,
      "outputs": []
    },
    {
      "cell_type": "markdown",
      "metadata": {
        "id": "A38CvlziacZi"
      },
      "source": [
        "### Data Cleaning"
      ]
    },
    {
      "cell_type": "code",
      "metadata": {
        "id": "Gp6pxdmzZ5Za"
      },
      "source": [
        "out_data_path = '/content/drive/MyDrive/퀀트/data/IVE_tickbidask.parq'\n",
        "df = pd.read_parquet(out_data_path)"
      ],
      "execution_count": null,
      "outputs": []
    },
    {
      "cell_type": "code",
      "metadata": {
        "colab": {
          "base_uri": "https://localhost:8080/",
          "height": 265
        },
        "id": "w9tzF8ccagIs",
        "outputId": "4c685804-3a5c-45d8-8798-7b84ae0e0892"
      },
      "source": [
        "fig, ax = plt.subplots()\n",
        "_ = ax.boxplot(df.price)"
      ],
      "execution_count": null,
      "outputs": [
        {
          "output_type": "display_data",
          "data": {
            "image/png": "[encoded data removed]",
            "text/plain": [
              "<Figure size 432x288 with 1 Axes>"
            ]
          },
          "metadata": {
            "tags": [],
            "needs_background": "light"
          }
        }
      ]
    },
    {
      "cell_type": "code",
      "metadata": {
        "id": "kROPa-9FamHs"
      },
      "source": [
        "Q1 = df.price.describe()[4] \n",
        "Q3 = df.price.describe()[6]\n",
        "IQR = Q3- Q1\n",
        "df = df.query('price > @Q1 - 1.5*@IQR') # 이상치 처리 (11개)\n",
        "\n",
        "clean_data_path = '/content/drive/MyDrive/퀀트/data/clean_IVE_tickbidask.parq'\n",
        "df.to_parquet(clean_data_path)"
      ],
      "execution_count": null,
      "outputs": []
    },
    {
      "cell_type": "markdown",
      "metadata": {
        "id": "79-cdJ08eV3T"
      },
      "source": [
        "### Data"
      ]
    },
    {
      "cell_type": "code",
      "metadata": {
        "colab": {
          "base_uri": "https://localhost:8080/",
          "height": 450
        },
        "id": "FtXwktMtfaOg",
        "outputId": "f265542c-b5f3-44ed-e8ae-7f02e79574ff"
      },
      "source": [
        "df"
      ],
      "execution_count": null,
      "outputs": [
        {
          "output_type": "execute_result",
          "data": {
            "text/html": [
              "<div>\n",
              "<style scoped>\n",
              "    .dataframe tbody tr th:only-of-type {\n",
              "        vertical-align: middle;\n",
              "    }\n",
              "\n",
              "    .dataframe tbody tr th {\n",
              "        vertical-align: top;\n",
              "    }\n",
              "\n",
              "    .dataframe thead th {\n",
              "        text-align: right;\n",
              "    }\n",
              "</style>\n",
              "<table border=\"1\" class=\"dataframe\">\n",
              "  <thead>\n",
              "    <tr style=\"text-align: right;\">\n",
              "      <th></th>\n",
              "      <th>price</th>\n",
              "      <th>bid</th>\n",
              "      <th>ask</th>\n",
              "      <th>vol</th>\n",
              "      <th>dollar_vol</th>\n",
              "    </tr>\n",
              "    <tr>\n",
              "      <th>date</th>\n",
              "      <th></th>\n",
              "      <th></th>\n",
              "      <th></th>\n",
              "      <th></th>\n",
              "      <th></th>\n",
              "    </tr>\n",
              "  </thead>\n",
              "  <tbody>\n",
              "    <tr>\n",
              "      <th>2009-09-28 09:30:00</th>\n",
              "      <td>50.79</td>\n",
              "      <td>50.70</td>\n",
              "      <td>50.79</td>\n",
              "      <td>100</td>\n",
              "      <td>5079.00</td>\n",
              "    </tr>\n",
              "    <tr>\n",
              "      <th>2009-09-28 09:30:00</th>\n",
              "      <td>50.71</td>\n",
              "      <td>50.70</td>\n",
              "      <td>50.79</td>\n",
              "      <td>638</td>\n",
              "      <td>32352.98</td>\n",
              "    </tr>\n",
              "    <tr>\n",
              "      <th>2009-09-28 09:31:32</th>\n",
              "      <td>50.75</td>\n",
              "      <td>50.75</td>\n",
              "      <td>50.76</td>\n",
              "      <td>100</td>\n",
              "      <td>5075.00</td>\n",
              "    </tr>\n",
              "    <tr>\n",
              "      <th>2009-09-28 09:31:33</th>\n",
              "      <td>50.75</td>\n",
              "      <td>50.72</td>\n",
              "      <td>50.75</td>\n",
              "      <td>100</td>\n",
              "      <td>5075.00</td>\n",
              "    </tr>\n",
              "    <tr>\n",
              "      <th>2009-09-28 09:31:50</th>\n",
              "      <td>50.75</td>\n",
              "      <td>50.73</td>\n",
              "      <td>50.76</td>\n",
              "      <td>300</td>\n",
              "      <td>15225.00</td>\n",
              "    </tr>\n",
              "    <tr>\n",
              "      <th>...</th>\n",
              "      <td>...</td>\n",
              "      <td>...</td>\n",
              "      <td>...</td>\n",
              "      <td>...</td>\n",
              "      <td>...</td>\n",
              "    </tr>\n",
              "    <tr>\n",
              "      <th>2021-03-10 15:59:59</th>\n",
              "      <td>140.47</td>\n",
              "      <td>140.42</td>\n",
              "      <td>140.47</td>\n",
              "      <td>213</td>\n",
              "      <td>29920.11</td>\n",
              "    </tr>\n",
              "    <tr>\n",
              "      <th>2021-03-10 16:00:00</th>\n",
              "      <td>140.50</td>\n",
              "      <td>140.45</td>\n",
              "      <td>140.50</td>\n",
              "      <td>10692</td>\n",
              "      <td>1502226.00</td>\n",
              "    </tr>\n",
              "    <tr>\n",
              "      <th>2021-03-10 16:10:00</th>\n",
              "      <td>140.50</td>\n",
              "      <td>140.51</td>\n",
              "      <td>141.14</td>\n",
              "      <td>0</td>\n",
              "      <td>0.00</td>\n",
              "    </tr>\n",
              "    <tr>\n",
              "      <th>2021-03-10 18:30:00</th>\n",
              "      <td>140.50</td>\n",
              "      <td>140.22</td>\n",
              "      <td>141.32</td>\n",
              "      <td>0</td>\n",
              "      <td>0.00</td>\n",
              "    </tr>\n",
              "    <tr>\n",
              "      <th>2021-03-10 20:00:00</th>\n",
              "      <td>140.50</td>\n",
              "      <td>140.22</td>\n",
              "      <td>141.18</td>\n",
              "      <td>0</td>\n",
              "      <td>0.00</td>\n",
              "    </tr>\n",
              "  </tbody>\n",
              "</table>\n",
              "<p>2055555 rows × 5 columns</p>\n",
              "</div>"
            ],
            "text/plain": [
              "                      price     bid     ask    vol  dollar_vol\n",
              "date                                                          \n",
              "2009-09-28 09:30:00   50.79   50.70   50.79    100     5079.00\n",
              "2009-09-28 09:30:00   50.71   50.70   50.79    638    32352.98\n",
              "2009-09-28 09:31:32   50.75   50.75   50.76    100     5075.00\n",
              "2009-09-28 09:31:33   50.75   50.72   50.75    100     5075.00\n",
              "2009-09-28 09:31:50   50.75   50.73   50.76    300    15225.00\n",
              "...                     ...     ...     ...    ...         ...\n",
              "2021-03-10 15:59:59  140.47  140.42  140.47    213    29920.11\n",
              "2021-03-10 16:00:00  140.50  140.45  140.50  10692  1502226.00\n",
              "2021-03-10 16:10:00  140.50  140.51  141.14      0        0.00\n",
              "2021-03-10 18:30:00  140.50  140.22  141.32      0        0.00\n",
              "2021-03-10 20:00:00  140.50  140.22  141.18      0        0.00\n",
              "\n",
              "[2055555 rows x 5 columns]"
            ]
          },
          "metadata": {
            "tags": []
          },
          "execution_count": 9
        }
      ]
    },
    {
      "cell_type": "code",
      "metadata": {
        "colab": {
          "base_uri": "https://localhost:8080/"
        },
        "id": "ylaUlIc5ec1t",
        "outputId": "437e3a19-0e37-4795-9e22-33383f32adb6"
      },
      "source": [
        "#! pip install https://github.com/matplotlib/mpl_finance/archive/master.zip"
      ],
      "execution_count": null,
      "outputs": [
        {
          "output_type": "stream",
          "text": [
            "Collecting https://github.com/matplotlib/mpl_finance/archive/master.zip\n",
            "\u001b[?25l  Downloading https://github.com/matplotlib/mpl_finance/archive/master.zip\n",
            "\u001b[K     / 450kB 3.4MB/s\n",
            "\u001b[?25hRequirement already satisfied: matplotlib in /usr/local/lib/python3.7/dist-packages (from mpl-finance==0.10.1) (3.2.2)\n",
            "Requirement already satisfied: cycler>=0.10 in /usr/local/lib/python3.7/dist-packages (from matplotlib->mpl-finance==0.10.1) (0.10.0)\n",
            "Requirement already satisfied: numpy>=1.11 in /usr/local/lib/python3.7/dist-packages (from matplotlib->mpl-finance==0.10.1) (1.19.5)\n",
            "Requirement already satisfied: python-dateutil>=2.1 in /usr/local/lib/python3.7/dist-packages (from matplotlib->mpl-finance==0.10.1) (2.8.1)\n",
            "Requirement already satisfied: kiwisolver>=1.0.1 in /usr/local/lib/python3.7/dist-packages (from matplotlib->mpl-finance==0.10.1) (1.3.1)\n",
            "Requirement already satisfied: pyparsing!=2.0.4,!=2.1.2,!=2.1.6,>=2.0.1 in /usr/local/lib/python3.7/dist-packages (from matplotlib->mpl-finance==0.10.1) (2.4.7)\n",
            "Requirement already satisfied: six in /usr/local/lib/python3.7/dist-packages (from cycler>=0.10->matplotlib->mpl-finance==0.10.1) (1.15.0)\n",
            "Building wheels for collected packages: mpl-finance\n",
            "  Building wheel for mpl-finance (setup.py) ... \u001b[?25l\u001b[?25hdone\n",
            "  Created wheel for mpl-finance: filename=mpl_finance-0.10.1-cp37-none-any.whl size=8424 sha256=43d2cac93c6837b4e9173385ed4d52e4d6bd318a50399717c39347646bf574a2\n",
            "  Stored in directory: /tmp/pip-ephem-wheel-cache-pvmect66/wheels/8f/bf/8a/6c858b2a3be945c7b2d658fbf6ab797b451d686cbee8aa2679\n",
            "Successfully built mpl-finance\n",
            "Installing collected packages: mpl-finance\n",
            "Successfully installed mpl-finance-0.10.1\n"
          ],
          "name": "stdout"
        }
      ]
    },
    {
      "cell_type": "code",
      "metadata": {
        "colab": {
          "base_uri": "https://localhost:8080/",
          "height": 265
        },
        "id": "LB4_xtT6dY_g",
        "outputId": "51143312-b2d0-4a37-84a3-2e03886937c8"
      },
      "source": [
        "from mpl_finance import candlestick_ohlc\n",
        "\n",
        "df_ohlc = df.price.resample('1M').ohlc()\n",
        "x = np.arange(len(df_ohlc.index))\n",
        "dohlc = np.hstack((np.reshape(x, (-1, 1)), df_ohlc))\n",
        "\n",
        "fig, ax = plt.subplots()\n",
        "\n",
        "candlestick_ohlc(ax, dohlc,  width=0.6, colorup='green', colordown='red', alpha=0.8)\n",
        "plt.show()"
      ],
      "execution_count": null,
      "outputs": [
        {
          "output_type": "display_data",
          "data": {
            "image/png": "[encoded data removed]",
            "text/plain": [
              "<Figure size 432x288 with 1 Axes>"
            ]
          },
          "metadata": {
            "tags": [],
            "needs_background": "light"
          }
        }
      ]
    },
    {
      "cell_type": "markdown",
      "metadata": {
        "id": "X2oxD746jQbf"
      },
      "source": [
        "## `2.1` \n",
        "On a series of E-mini S&P 500 futures tick data:\n",
        "\n",
        "(a) Form tick, volume, and dollar bars. Use the ETF trick to deal with the roll."
      ]
    },
    {
      "cell_type": "code",
      "metadata": {
        "id": "NXf7qezwXQZM"
      },
      "source": [
        "def tick_bars(df, price_column, m):\n",
        "    '''\n",
        "    compute tick bars\n",
        "    # args\n",
        "        df: pd.DataFrame()\n",
        "        column: name for price data\n",
        "        m: int(), threshold value for ticks\n",
        "    # returns\n",
        "        idx: list of indices\n",
        "    '''\n",
        "    t = df[price_column]\n",
        "    ts = 0\n",
        "    idx = []\n",
        "    for i, x in enumerate(tqdm(t)):\n",
        "        ts += 1\n",
        "        if ts >= m:\n",
        "            idx.append(i)\n",
        "            ts = 0\n",
        "            continue\n",
        "    return idx\n",
        "\n",
        "def tick_bar_df(df, price_column, m):\n",
        "    idx = tick_bars(df, price_column, m)\n",
        "    return df.iloc[idx]"
      ],
      "execution_count": null,
      "outputs": []
    },
    {
      "cell_type": "code",
      "metadata": {
        "colab": {
          "base_uri": "https://localhost:8080/"
        },
        "id": "sOTAy9ZxXd6N",
        "outputId": "eccc4c72-d6d2-4cea-b680-049f4f2bd843"
      },
      "source": [
        "tick_df = tick_bar_df(df, 'price', 2)"
      ],
      "execution_count": null,
      "outputs": [
        {
          "output_type": "stream",
          "text": [
            "100%|██████████| 2055555/2055555 [00:01<00:00, 2014084.39it/s]\n"
          ],
          "name": "stderr"
        }
      ]
    },
    {
      "cell_type": "code",
      "metadata": {
        "id": "t89W97g5VmhH"
      },
      "source": [
        "def volume_bars(df, volume_column, m):\n",
        "    '''\n",
        "    compute volume bars\n",
        "    # args\n",
        "        df: pd.DataFrame()\n",
        "        column: name for volume data\n",
        "        m: int(), threshold value for volume\n",
        "    # returns\n",
        "        idx: list of indices\n",
        "    '''\n",
        "    t = df[volume_column]\n",
        "    ts = 0\n",
        "    idx = []\n",
        "    for i, x in enumerate(tqdm(t)):\n",
        "        ts += x\n",
        "        if ts >= m:\n",
        "            idx.append(i)\n",
        "            ts = 0\n",
        "            continue\n",
        "    return idx\n",
        "\n",
        "def volume_bar_df(df, volume_column, m):\n",
        "    idx = volume_bars(df, volume_column, m)\n",
        "    return df.iloc[idx]\n"
      ],
      "execution_count": null,
      "outputs": []
    },
    {
      "cell_type": "code",
      "metadata": {
        "colab": {
          "base_uri": "https://localhost:8080/"
        },
        "id": "5Go2-o6-VpRt",
        "outputId": "3954655b-f6b7-4f04-d316-aa210a86d111"
      },
      "source": [
        "vol_df = volume_bar_df(df, 'vol', 600)"
      ],
      "execution_count": null,
      "outputs": [
        {
          "output_type": "stream",
          "text": [
            "100%|██████████| 2055555/2055555 [00:01<00:00, 1968453.72it/s]\n"
          ],
          "name": "stderr"
        }
      ]
    },
    {
      "cell_type": "code",
      "metadata": {
        "id": "_G-I4YBhaDuY"
      },
      "source": [
        "def dollar_bars(df, dv_column, m):\n",
        "    '''\n",
        "    compute dollar bars\n",
        "    # args\n",
        "        df: pd.DataFrame()\n",
        "        column: name for dollar volume data\n",
        "        m: int(), threshold value for dollars\n",
        "    # returns\n",
        "        idx: list of indices\n",
        "    '''\n",
        "    t = df[dv_column]\n",
        "    ts = 0\n",
        "    idx = []\n",
        "    for i, x in enumerate(tqdm(t)):\n",
        "        ts += x\n",
        "        if ts >= m:\n",
        "            idx.append(i)\n",
        "            ts = 0\n",
        "            continue\n",
        "    return idx\n",
        "\n",
        "def dollar_bar_df(df, dv_column, m):\n",
        "    idx = dollar_bars(df, dv_column, m)\n",
        "    return df.iloc[idx]"
      ],
      "execution_count": null,
      "outputs": []
    },
    {
      "cell_type": "code",
      "metadata": {
        "id": "606C8pjxe7pN"
      },
      "source": [
        "dollar_df = dollar_bar_df(df, 'dollar_vol', 100000)"
      ],
      "execution_count": null,
      "outputs": []
    },
    {
      "cell_type": "code",
      "metadata": {
        "id": "Am9hpmxKSi9z"
      },
      "source": [
        "dollar_df.to_csv('/content/drive/MyDrive/퀀트/data/dollar_df.csv') # 달러바 to csv"
      ],
      "execution_count": null,
      "outputs": []
    },
    {
      "cell_type": "code",
      "metadata": {
        "id": "o6OTdDmSdR-B"
      },
      "source": [
        "dollar_day = dollar_df.resample('1D').last()\n",
        "dollar_day.to_csv('/content/drive/MyDrive/퀀트/data/dollar_day.csv') # 달러바 종가 to csv"
      ],
      "execution_count": null,
      "outputs": []
    },
    {
      "cell_type": "markdown",
      "metadata": {
        "id": "DdbyHpwbXudV"
      },
      "source": [
        "(b) Count the number of bars produced by tick, volume, and dollar bars on a weekly basis. Plot a time series of that bar count. What bar type produces the most stable weekly count? Why?\n"
      ]
    },
    {
      "cell_type": "code",
      "metadata": {
        "id": "Kl_D5BUvVkuK"
      },
      "source": [
        "weekly_tick_count = tick_df.price.resample('1W').count()\n",
        "weekly_vol_count = vol_df.price.resample('1W').count()\n",
        "weekly_dollar_count = dollar_df.price.resample('1W').count()"
      ],
      "execution_count": null,
      "outputs": []
    },
    {
      "cell_type": "code",
      "metadata": {
        "colab": {
          "base_uri": "https://localhost:8080/",
          "height": 142
        },
        "id": "hBKxdZr9XLHk",
        "outputId": "98a77562-74d3-4262-9ee1-8d40d3e672a4"
      },
      "source": [
        "count_df = pd.DataFrame(columns=['count_mean','count_std'], index=['tick', 'vol', 'dollar'])\n",
        "count_df.loc['tick'] = [weekly_tick_count.mean(), weekly_tick_count.std()]\n",
        "count_df.loc['vol'] = [weekly_vol_count.mean(), weekly_vol_count.std()]\n",
        "count_df.loc['dollar'] = [weekly_dollar_count.mean(), weekly_dollar_count.std()]\n",
        "count_df"
      ],
      "execution_count": null,
      "outputs": [
        {
          "output_type": "execute_result",
          "data": {
            "text/html": [
              "<div>\n",
              "<style scoped>\n",
              "    .dataframe tbody tr th:only-of-type {\n",
              "        vertical-align: middle;\n",
              "    }\n",
              "\n",
              "    .dataframe tbody tr th {\n",
              "        vertical-align: top;\n",
              "    }\n",
              "\n",
              "    .dataframe thead th {\n",
              "        text-align: right;\n",
              "    }\n",
              "</style>\n",
              "<table border=\"1\" class=\"dataframe\">\n",
              "  <thead>\n",
              "    <tr style=\"text-align: right;\">\n",
              "      <th></th>\n",
              "      <th>count_mean</th>\n",
              "      <th>count_std</th>\n",
              "    </tr>\n",
              "  </thead>\n",
              "  <tbody>\n",
              "    <tr>\n",
              "      <th>tick</th>\n",
              "      <td>1718.69</td>\n",
              "      <td>1240.65</td>\n",
              "    </tr>\n",
              "    <tr>\n",
              "      <th>vol</th>\n",
              "      <td>1334.78</td>\n",
              "      <td>846.672</td>\n",
              "    </tr>\n",
              "    <tr>\n",
              "      <th>dollar</th>\n",
              "      <td>875.998</td>\n",
              "      <td>616.839</td>\n",
              "    </tr>\n",
              "  </tbody>\n",
              "</table>\n",
              "</div>"
            ],
            "text/plain": [
              "       count_mean count_std\n",
              "tick      1718.69   1240.65\n",
              "vol       1334.78   846.672\n",
              "dollar    875.998   616.839"
            ]
          },
          "metadata": {
            "tags": []
          },
          "execution_count": 19
        }
      ]
    },
    {
      "cell_type": "code",
      "metadata": {
        "colab": {
          "base_uri": "https://localhost:8080/",
          "height": 429
        },
        "id": "a-ZAR9qPYrOV",
        "outputId": "2daf3c88-5e79-4229-a90b-c272d79d2748"
      },
      "source": [
        "count_df = pd.concat([weekly_tick_count, weekly_vol_count, weekly_dollar_count], axis=1)\n",
        "count_df.columns = ['tick', 'volume', 'dollar']\n",
        "count_df.loc[:, ['tick', 'volume', 'dollar']].plot(kind = 'bar', figsize=[10, 5])\n",
        "ax.spines['bottom'].set_visible(False)"
      ],
      "execution_count": null,
      "outputs": [
        {
          "output_type": "display_data",
          "data": {
            "image/png": "[encoded data removed]",
            "text/plain": [
              "<Figure size 720x360 with 1 Axes>"
            ]
          },
          "metadata": {
            "tags": [],
            "needs_background": "light"
          }
        }
      ]
    },
    {
      "cell_type": "markdown",
      "metadata": {
        "id": "kOphhdL8c9AY"
      },
      "source": [
        "(c) Compute the serial correlation of returns for the three bar types. What bar method has the lowest serial correlation?"
      ]
    },
    {
      "cell_type": "code",
      "metadata": {
        "colab": {
          "base_uri": "https://localhost:8080/",
          "height": 142
        },
        "id": "dXCzo14DkZ38",
        "outputId": "17bd4abf-4690-4280-f425-5f5aaa81dbb1"
      },
      "source": [
        "pd.DataFrame(data={'autocorr':[count_df['dollar'].autocorr(),\n",
        "                               count_df['volume'].autocorr(),\n",
        "                               count_df['tick'].autocorr()]},\n",
        "                               index=['tick', 'vol', 'dollar'])\n",
        "# 전후관계의 상관관계가 높음 -> 로그 수익률"
      ],
      "execution_count": null,
      "outputs": [
        {
          "output_type": "execute_result",
          "data": {
            "text/html": [
              "<div>\n",
              "<style scoped>\n",
              "    .dataframe tbody tr th:only-of-type {\n",
              "        vertical-align: middle;\n",
              "    }\n",
              "\n",
              "    .dataframe tbody tr th {\n",
              "        vertical-align: top;\n",
              "    }\n",
              "\n",
              "    .dataframe thead th {\n",
              "        text-align: right;\n",
              "    }\n",
              "</style>\n",
              "<table border=\"1\" class=\"dataframe\">\n",
              "  <thead>\n",
              "    <tr style=\"text-align: right;\">\n",
              "      <th></th>\n",
              "      <th>autocorr</th>\n",
              "    </tr>\n",
              "  </thead>\n",
              "  <tbody>\n",
              "    <tr>\n",
              "      <th>tick</th>\n",
              "      <td>0.753118</td>\n",
              "    </tr>\n",
              "    <tr>\n",
              "      <th>vol</th>\n",
              "      <td>0.703512</td>\n",
              "    </tr>\n",
              "    <tr>\n",
              "      <th>dollar</th>\n",
              "      <td>0.730188</td>\n",
              "    </tr>\n",
              "  </tbody>\n",
              "</table>\n",
              "</div>"
            ],
            "text/plain": [
              "        autocorr\n",
              "tick    0.753118\n",
              "vol     0.703512\n",
              "dollar  0.730188"
            ]
          },
          "metadata": {
            "tags": []
          },
          "execution_count": 21
        }
      ]
    },
    {
      "cell_type": "code",
      "metadata": {
        "id": "a_9v1EfficGM"
      },
      "source": [
        "# log returns\n",
        "tick_returns = np.log(tick_df.price).diff().dropna()\n",
        "vol_returns = np.log(vol_df.price).diff().dropna()\n",
        "dollar_returns = np.log(dollar_df.price).diff().dropna()"
      ],
      "execution_count": null,
      "outputs": []
    },
    {
      "cell_type": "code",
      "metadata": {
        "colab": {
          "base_uri": "https://localhost:8080/",
          "height": 142
        },
        "id": "EFEY90YpagXl",
        "outputId": "4bba31d5-1a0d-4a39-8a91-12fb7a761a95"
      },
      "source": [
        "pd.DataFrame(data={'returns_autocorr':[tick_returns.autocorr(),\n",
        "                                       vol_returns.autocorr(),\n",
        "                                       dollar_returns.autocorr()]},\n",
        "                               index=['tick', 'vol', 'dollar'])"
      ],
      "execution_count": null,
      "outputs": [
        {
          "output_type": "execute_result",
          "data": {
            "text/html": [
              "<div>\n",
              "<style scoped>\n",
              "    .dataframe tbody tr th:only-of-type {\n",
              "        vertical-align: middle;\n",
              "    }\n",
              "\n",
              "    .dataframe tbody tr th {\n",
              "        vertical-align: top;\n",
              "    }\n",
              "\n",
              "    .dataframe thead th {\n",
              "        text-align: right;\n",
              "    }\n",
              "</style>\n",
              "<table border=\"1\" class=\"dataframe\">\n",
              "  <thead>\n",
              "    <tr style=\"text-align: right;\">\n",
              "      <th></th>\n",
              "      <th>returns_autocorr</th>\n",
              "    </tr>\n",
              "  </thead>\n",
              "  <tbody>\n",
              "    <tr>\n",
              "      <th>tick</th>\n",
              "      <td>-0.014101</td>\n",
              "    </tr>\n",
              "    <tr>\n",
              "      <th>vol</th>\n",
              "      <td>-0.040060</td>\n",
              "    </tr>\n",
              "    <tr>\n",
              "      <th>dollar</th>\n",
              "      <td>0.058046</td>\n",
              "    </tr>\n",
              "  </tbody>\n",
              "</table>\n",
              "</div>"
            ],
            "text/plain": [
              "        returns_autocorr\n",
              "tick           -0.014101\n",
              "vol            -0.040060\n",
              "dollar          0.058046"
            ]
          },
          "metadata": {
            "tags": []
          },
          "execution_count": 23
        }
      ]
    },
    {
      "cell_type": "markdown",
      "metadata": {
        "id": "WwD_bgQ-efxu"
      },
      "source": [
        "(d) Partition the bar series into monthly subsets. Compute the variance of returns for every subset of every bar type. Compute the variance of those variances. What method exhibits the smallest variance of variances?"
      ]
    },
    {
      "cell_type": "code",
      "metadata": {
        "id": "9kyjD2KEdBt2"
      },
      "source": [
        "monthly_tick_returns_var = tick_returns.resample('M').var()\n",
        "monthly_vol_returns_var = vol_returns.resample('M').var()\n",
        "monthly_dollar_retuns_var = dollar_returns.resample('M').var()"
      ],
      "execution_count": null,
      "outputs": []
    },
    {
      "cell_type": "code",
      "metadata": {
        "colab": {
          "base_uri": "https://localhost:8080/",
          "height": 142
        },
        "id": "YYDcDF45dbyA",
        "outputId": "e53eead7-2103-4648-be33-7f83e8401c8e"
      },
      "source": [
        "pd.DataFrame(data = {'variance':[monthly_tick_returns_var.var(), monthly_vol_returns_var.var(), monthly_dollar_retuns_var.var()]},\n",
        "             index = ['tick', 'volume', 'dollar'])"
      ],
      "execution_count": null,
      "outputs": [
        {
          "output_type": "execute_result",
          "data": {
            "text/html": [
              "<div>\n",
              "<style scoped>\n",
              "    .dataframe tbody tr th:only-of-type {\n",
              "        vertical-align: middle;\n",
              "    }\n",
              "\n",
              "    .dataframe tbody tr th {\n",
              "        vertical-align: top;\n",
              "    }\n",
              "\n",
              "    .dataframe thead th {\n",
              "        text-align: right;\n",
              "    }\n",
              "</style>\n",
              "<table border=\"1\" class=\"dataframe\">\n",
              "  <thead>\n",
              "    <tr style=\"text-align: right;\">\n",
              "      <th></th>\n",
              "      <th>variance</th>\n",
              "    </tr>\n",
              "  </thead>\n",
              "  <tbody>\n",
              "    <tr>\n",
              "      <th>tick</th>\n",
              "      <td>1.593371e-11</td>\n",
              "    </tr>\n",
              "    <tr>\n",
              "      <th>volume</th>\n",
              "      <td>2.205118e-11</td>\n",
              "    </tr>\n",
              "    <tr>\n",
              "      <th>dollar</th>\n",
              "      <td>5.267423e-11</td>\n",
              "    </tr>\n",
              "  </tbody>\n",
              "</table>\n",
              "</div>"
            ],
            "text/plain": [
              "            variance\n",
              "tick    1.593371e-11\n",
              "volume  2.205118e-11\n",
              "dollar  5.267423e-11"
            ]
          },
          "metadata": {
            "tags": []
          },
          "execution_count": 25
        }
      ]
    },
    {
      "cell_type": "markdown",
      "metadata": {
        "id": "Cna-845Bgar1"
      },
      "source": [
        "\n",
        "(e) Apply the Jarque-Bera normality test on returns from the three bar types. What method achieves the lowest test statistic?"
      ]
    },
    {
      "cell_type": "code",
      "metadata": {
        "id": "nr4zr1VGeuhB"
      },
      "source": [
        "from scipy.stats import jarque_bera"
      ],
      "execution_count": null,
      "outputs": []
    },
    {
      "cell_type": "code",
      "metadata": {
        "id": "hWrSVUyif9lz"
      },
      "source": [
        "jb_value_tick, _ = jarque_bera(tick_returns)\n",
        "jb_value_vol, _ = jarque_bera(vol_returns)\n",
        "jb_value_dollar, _ = jarque_bera(dollar_returns)"
      ],
      "execution_count": null,
      "outputs": []
    },
    {
      "cell_type": "code",
      "metadata": {
        "colab": {
          "base_uri": "https://localhost:8080/",
          "height": 142
        },
        "id": "sLv0Vn8YgsIH",
        "outputId": "13899e5d-1a2a-471b-f33d-deb59383500e"
      },
      "source": [
        "pd.DataFrame(data={'jarque_bera_results' : [jb_value_tick, jb_value_vol, jb_value_dollar]},\n",
        "                          index=['tick', 'vol', 'dollar'])"
      ],
      "execution_count": null,
      "outputs": [
        {
          "output_type": "execute_result",
          "data": {
            "text/html": [
              "<div>\n",
              "<style scoped>\n",
              "    .dataframe tbody tr th:only-of-type {\n",
              "        vertical-align: middle;\n",
              "    }\n",
              "\n",
              "    .dataframe tbody tr th {\n",
              "        vertical-align: top;\n",
              "    }\n",
              "\n",
              "    .dataframe thead th {\n",
              "        text-align: right;\n",
              "    }\n",
              "</style>\n",
              "<table border=\"1\" class=\"dataframe\">\n",
              "  <thead>\n",
              "    <tr style=\"text-align: right;\">\n",
              "      <th></th>\n",
              "      <th>jarque_bera_results</th>\n",
              "    </tr>\n",
              "  </thead>\n",
              "  <tbody>\n",
              "    <tr>\n",
              "      <th>tick</th>\n",
              "      <td>4.225907e+13</td>\n",
              "    </tr>\n",
              "    <tr>\n",
              "      <th>vol</th>\n",
              "      <td>2.648322e+13</td>\n",
              "    </tr>\n",
              "    <tr>\n",
              "      <th>dollar</th>\n",
              "      <td>5.779185e+12</td>\n",
              "    </tr>\n",
              "  </tbody>\n",
              "</table>\n",
              "</div>"
            ],
            "text/plain": [
              "        jarque_bera_results\n",
              "tick           4.225907e+13\n",
              "vol            2.648322e+13\n",
              "dollar         5.779185e+12"
            ]
          },
          "metadata": {
            "tags": []
          },
          "execution_count": 28
        }
      ]
    },
    {
      "cell_type": "code",
      "metadata": {
        "id": "qklJXCU5hiLe"
      },
      "source": [
        "tick_standard = (tick_returns - tick_returns.mean()) / tick_returns.std()\n",
        "volume_standard = (vol_returns - vol_returns.mean()) / vol_returns.std()\n",
        "dollar_standard = (dollar_returns - dollar_returns.mean()) / dollar_returns.std()"
      ],
      "execution_count": null,
      "outputs": []
    },
    {
      "cell_type": "code",
      "metadata": {
        "colab": {
          "base_uri": "https://localhost:8080/",
          "height": 418
        },
        "id": "Z3xGWw0Igxoq",
        "outputId": "b93f39ae-05bb-4056-bb66-a1df9a6ea713"
      },
      "source": [
        "import seaborn as sns \n",
        "\n",
        "fig, ax = plt.subplots()\n",
        "\n",
        "sns.kdeplot(tick_standard, \n",
        "            ax=ax,\n",
        "            label=\"Tick\", \n",
        "            bw=0.25,\n",
        "            color='red')\n",
        "sns.kdeplot(volume_standard,\n",
        "            ax=ax,\n",
        "            label=\"Volume\",\n",
        "            bw=0.25,\n",
        "            color='blue')\n",
        "sns.kdeplot(dollar_standard,\n",
        "            ax=ax,\n",
        "            label=\"Dollar\",\n",
        "            bw=0.25,\n",
        "            linewidth=2, \n",
        "            color='green') #달러 바가 확실히 정규분포에 가까움 \n",
        "sns.kdeplot(np.random.normal(size=len(tick_standard)),\n",
        "            ax=ax,\n",
        "            label=\"Normal\",\n",
        "            color='black',\n",
        "            linestyle=\"--\")\n",
        "ax.set_xticks(range(-5, 6))\n",
        "ax.set_xlim(-5, 5)"
      ],
      "execution_count": null,
      "outputs": [
        {
          "output_type": "stream",
          "text": [
            "/usr/local/lib/python3.7/dist-packages/seaborn/distributions.py:1657: FutureWarning: The `bw` parameter is deprecated in favor of `bw_method` and `bw_adjust`. Using 0.25 for `bw_method`, but please see the docs for the new parameters and update your code.\n",
            "  warnings.warn(msg, FutureWarning)\n",
            "/usr/local/lib/python3.7/dist-packages/seaborn/distributions.py:1657: FutureWarning: The `bw` parameter is deprecated in favor of `bw_method` and `bw_adjust`. Using 0.25 for `bw_method`, but please see the docs for the new parameters and update your code.\n",
            "  warnings.warn(msg, FutureWarning)\n",
            "/usr/local/lib/python3.7/dist-packages/seaborn/distributions.py:1657: FutureWarning: The `bw` parameter is deprecated in favor of `bw_method` and `bw_adjust`. Using 0.25 for `bw_method`, but please see the docs for the new parameters and update your code.\n",
            "  warnings.warn(msg, FutureWarning)\n"
          ],
          "name": "stderr"
        },
        {
          "output_type": "execute_result",
          "data": {
            "text/plain": [
              "(-5.0, 5.0)"
            ]
          },
          "metadata": {
            "tags": []
          },
          "execution_count": 30
        },
        {
          "output_type": "display_data",
          "data": {
            "image/png": "[encoded data removed]",
            "text/plain": [
              "<Figure size 432x288 with 1 Axes>"
            ]
          },
          "metadata": {
            "tags": [],
            "needs_background": "light"
          }
        }
      ]
    },
    {
      "cell_type": "markdown",
      "metadata": {
        "id": "3yqosu0dl3uh"
      },
      "source": [
        "##`2.4`\n",
        "Form E-mini S&P 500 futures `dollar bars`:\n",
        "\n",
        "(a) Compute Bollinger bands of width 5% around a rolling moving average. Count how many times prices cross the bands out (from within the bands to outside the bands)."
      ]
    },
    {
      "cell_type": "code",
      "metadata": {
        "id": "GK8wifNOhNfJ"
      },
      "source": [
        "N = 20\n",
        "K = 1.96\n",
        "ma = dollar_df.price.rolling(N).mean()\n",
        "sigma = dollar_df.price.rolling(N).std()\n",
        "upper_band = ma + K*sigma\n",
        "lower_band = ma - K*sigma"
      ],
      "execution_count": null,
      "outputs": []
    },
    {
      "cell_type": "code",
      "metadata": {
        "colab": {
          "base_uri": "https://localhost:8080/",
          "height": 298
        },
        "id": "IE7pxXclQZnL",
        "outputId": "d62a6686-dc0d-4108-d203-cc424cad2a69"
      },
      "source": [
        "fig, ax = plt.subplots(1)\n",
        "dollar_df.iloc[-100:].price.plot(ax=ax, marker='*')\n",
        "ma.iloc[-100:].plot(ax=ax)\n",
        "upper_band.iloc[-100:].plot(ax=ax, color='k')\n",
        "lower_band.iloc[-100:].plot(ax=ax, color='k')"
      ],
      "execution_count": null,
      "outputs": [
        {
          "output_type": "execute_result",
          "data": {
            "text/plain": [
              "<matplotlib.axes._subplots.AxesSubplot at 0x7fbadd49be90>"
            ]
          },
          "metadata": {
            "tags": []
          },
          "execution_count": 32
        },
        {
          "output_type": "display_data",
          "data": {
            "image/png": "[encoded data removed]",
            "text/plain": [
              "<Figure size 432x288 with 1 Axes>"
            ]
          },
          "metadata": {
            "tags": [],
            "needs_background": "light"
          }
        }
      ]
    },
    {
      "cell_type": "code",
      "metadata": {
        "id": "G85Aq7q6RDoa"
      },
      "source": [
        "N = 20\n",
        "ma = dollar_df.price.rolling(N).mean()\n",
        "price_pct = 0.001\n",
        "upper_band = ma + ma*price_pct\n",
        "lower_band = ma - ma*price_pct\n",
        "bb_dataframe = pd.concat([dollar_df.price, ma, upper_band, lower_band], axis=1).dropna()\n",
        "bb_dataframe.columns=['price','ma','upper_band','lower_band']"
      ],
      "execution_count": null,
      "outputs": []
    },
    {
      "cell_type": "code",
      "metadata": {
        "colab": {
          "base_uri": "https://localhost:8080/",
          "height": 286
        },
        "id": "OVhaBRxbRdhR",
        "outputId": "bba2a48d-ae7d-4f81-f1e0-eb6b74b25108"
      },
      "source": [
        "fig, ax = plt.subplots(1)\n",
        "bb_dataframe.plot(ax=ax, color=['b','r', 'k', 'k'])"
      ],
      "execution_count": null,
      "outputs": [
        {
          "output_type": "execute_result",
          "data": {
            "text/plain": [
              "<matplotlib.axes._subplots.AxesSubplot at 0x7fbadd5d5590>"
            ]
          },
          "metadata": {
            "tags": []
          },
          "execution_count": 34
        },
        {
          "output_type": "display_data",
          "data": {
            "image/png": "[encoded data removed]",
            "text/plain": [
              "<Figure size 432x288 with 1 Axes>"
            ]
          },
          "metadata": {
            "tags": [],
            "needs_background": "light"
          }
        }
      ]
    },
    {
      "cell_type": "code",
      "metadata": {
        "colab": {
          "base_uri": "https://localhost:8080/",
          "height": 296
        },
        "id": "cD1RvcJvRf_P",
        "outputId": "820e795d-1473-46ee-e816-b933c5a8bb56"
      },
      "source": [
        "s_date='2021-03-10 10'\n",
        "e_date='2021-03-10 16'\n",
        "\n",
        "fig, ax = plt.subplots(1)\n",
        "bb_dataframe.loc[s_date:e_date].plot(ax=ax, color=['b','r', 'k', 'k'])"
      ],
      "execution_count": null,
      "outputs": [
        {
          "output_type": "execute_result",
          "data": {
            "text/plain": [
              "<matplotlib.axes._subplots.AxesSubplot at 0x7fbadd579250>"
            ]
          },
          "metadata": {
            "tags": []
          },
          "execution_count": 35
        },
        {
          "output_type": "display_data",
          "data": {
            "image/png": "[encoded data removed]",
            "text/plain": [
              "<Figure size 432x288 with 1 Axes>"
            ]
          },
          "metadata": {
            "tags": [],
            "needs_background": "light"
          }
        }
      ]
    },
    {
      "cell_type": "code",
      "metadata": {
        "colab": {
          "base_uri": "https://localhost:8080/"
        },
        "id": "8ysLHuEeRn8f",
        "outputId": "8da58a64-5322-4c3a-b24b-4c2a905da161"
      },
      "source": [
        "count_up = dollar_df[dollar_df.price > upper_band]\n",
        "count_up.shape"
      ],
      "execution_count": null,
      "outputs": [
        {
          "output_type": "execute_result",
          "data": {
            "text/plain": [
              "(97768, 5)"
            ]
          },
          "metadata": {
            "tags": []
          },
          "execution_count": 36
        }
      ]
    },
    {
      "cell_type": "code",
      "metadata": {
        "colab": {
          "base_uri": "https://localhost:8080/"
        },
        "id": "blHWCmDiRrtj",
        "outputId": "ad02ae65-3b7a-4c06-eef6-39837d256055"
      },
      "source": [
        "count_dn = dollar_df[dollar_df.price < lower_band]\n",
        "count_dn.shape"
      ],
      "execution_count": null,
      "outputs": [
        {
          "output_type": "execute_result",
          "data": {
            "text/plain": [
              "(94718, 5)"
            ]
          },
          "metadata": {
            "tags": []
          },
          "execution_count": 37
        }
      ]
    },
    {
      "cell_type": "markdown",
      "metadata": {
        "id": "C9xQOzHDR1RS"
      },
      "source": [
        "(b) Now sample those bars using a CUSUM filter, where {$y_t$} are returns and h = 0.05. How many samples do you get?\n",
        "\n",
        "\n",
        "\n",
        "\n"
      ]
    },
    {
      "cell_type": "code",
      "metadata": {
        "id": "bAYzGs4nRvp6"
      },
      "source": [
        "def cumsum_events(df: pd.Series, limit: float):\n",
        "    idx, _up, _dn = [], 0, 0\n",
        "    diff = df.diff()\n",
        "    for i in range(1, len(diff)):\n",
        "        _up, _dn = max(0, _up + diff.iloc[i]), min(0, _dn + diff.iloc[i])\n",
        "        if _up > limit:\n",
        "            _up = 0; idx.append(diff.index[i])\n",
        "        elif _dn < - limit:\n",
        "            _dn = 0; idx.append(diff.index[i])\n",
        "        \n",
        "    return pd.DatetimeIndex(idx)"
      ],
      "execution_count": null,
      "outputs": []
    },
    {
      "cell_type": "code",
      "metadata": {
        "id": "RV1A7CVUduPS"
      },
      "source": [
        "def cumsum_events1(df: pd.Series, limit: float):\n",
        "    idx, _up, _dn = [], 0, 0\n",
        "    diff = df.pct_change()\n",
        "    for i in range(1, len(diff)):\n",
        "        _up, _dn = max(0, _up + diff.iloc[i]), min(0, _dn + diff.iloc[i])\n",
        "        if _up > limit:\n",
        "            _up = 0; idx.append(diff.index[i])\n",
        "        elif _dn < - limit:\n",
        "            _dn = 0; idx.append(diff.index[i])\n",
        "        \n",
        "    return pd.DatetimeIndex(idx)"
      ],
      "execution_count": null,
      "outputs": []
    },
    {
      "cell_type": "code",
      "metadata": {
        "id": "PbAM0Kf_Xo9A"
      },
      "source": [
        "event = cumsum_events(dollar_df.price, 0.05)"
      ],
      "execution_count": null,
      "outputs": []
    },
    {
      "cell_type": "code",
      "metadata": {
        "id": "_U2qL85fd1A8"
      },
      "source": [
        "event_pct = cumsum_events1(dollar_df.price, 0.05)"
      ],
      "execution_count": null,
      "outputs": []
    },
    {
      "cell_type": "code",
      "metadata": {
        "colab": {
          "base_uri": "https://localhost:8080/"
        },
        "id": "JzEP9d2VSMvr",
        "outputId": "62e34ca2-93c0-4678-c97b-cfa16f05046a"
      },
      "source": [
        "print(len(event))\n",
        "print(len(event_pct))"
      ],
      "execution_count": null,
      "outputs": [
        {
          "output_type": "stream",
          "text": [
            "150836\n",
            "257\n"
          ],
          "name": "stdout"
        }
      ]
    },
    {
      "cell_type": "markdown",
      "metadata": {
        "id": "ZtEIrC5-ZTFo"
      },
      "source": [
        "(c) Compute the rolling standard deviation of the two-sampled series. Which one is least heteroscedastic? What is the reason for these results?"
      ]
    },
    {
      "cell_type": "code",
      "metadata": {
        "id": "vVl1-QO7UIzV",
        "colab": {
          "base_uri": "https://localhost:8080/"
        },
        "outputId": "8eef248b-21b1-4de1-d5b1-72e467a3b4ba"
      },
      "source": [
        "import statsmodels.stats.diagnostic as sm\n",
        "import statsmodels.api as smi"
      ],
      "execution_count": null,
      "outputs": [
        {
          "output_type": "stream",
          "text": [
            "/usr/local/lib/python3.7/dist-packages/statsmodels/tools/_testing.py:19: FutureWarning: pandas.util.testing is deprecated. Use the functions in the public API at pandas.testing instead.\n",
            "  import pandas.util.testing as tm\n"
          ],
          "name": "stderr"
        }
      ]
    },
    {
      "cell_type": "code",
      "metadata": {
        "id": "gj224jOpZmuz"
      },
      "source": [
        "without_filter = pd.concat([count_up, count_dn])\n",
        "with_filter = dollar_df.loc[dollar_df.index.intersection(event)]\n",
        "with_fliter_pct = dollar_df.loc[dollar_df.index.intersection(event_pct)]"
      ],
      "execution_count": null,
      "outputs": []
    },
    {
      "cell_type": "code",
      "metadata": {
        "id": "-QM8jv5SaPnW"
      },
      "source": [
        "def white_test(data: pd.DataFrame, window: int = 21):\n",
        "    data['std1'] = data['price'].rolling(21).std()\n",
        "    data.dropna(inplace= True)\n",
        "    X = smi.tools.tools.add_constant(data['price'])\n",
        "    results = smi.regression.linear_model.OLS(data['std1'], X).fit()\n",
        "    resid = results.resid\n",
        "    exog = results.model.exog\n",
        "    print(\"White-Test p-Value: {0}\".format(sm.het_white(resid, exog)[1]))\n",
        "    if sm.het_white(resid, exog)[1] > 0.05:\n",
        "        print(\"White test outcome at 5% signficance: homoscedastic\")\n",
        "    else:\n",
        "        print(\"White test outcome at 5% signficance: heteroscedastic\")"
      ],
      "execution_count": null,
      "outputs": []
    },
    {
      "cell_type": "code",
      "metadata": {
        "colab": {
          "base_uri": "https://localhost:8080/"
        },
        "id": "Arn8rEFSaZXn",
        "outputId": "70b80db1-4b01-47b8-aadb-7af5de825776"
      },
      "source": [
        "white_test(without_filter)"
      ],
      "execution_count": null,
      "outputs": [
        {
          "output_type": "stream",
          "text": [
            "White-Test p-Value: 1.586087154489769e-23\n",
            "White test outcome at 5% signficance: heteroscedastic\n"
          ],
          "name": "stdout"
        }
      ]
    },
    {
      "cell_type": "code",
      "metadata": {
        "colab": {
          "base_uri": "https://localhost:8080/"
        },
        "id": "NLmM5uqBcb9u",
        "outputId": "bb8c0fd4-59a4-4603-d074-a9e362616447"
      },
      "source": [
        "white_test(with_filter)"
      ],
      "execution_count": null,
      "outputs": [
        {
          "output_type": "stream",
          "text": [
            "White-Test p-Value: 1.731136687003757e-35\n",
            "White test outcome at 5% signficance: heteroscedastic\n"
          ],
          "name": "stdout"
        }
      ]
    },
    {
      "cell_type": "code",
      "metadata": {
        "colab": {
          "base_uri": "https://localhost:8080/"
        },
        "id": "N1aapqBscp4o",
        "outputId": "3d4951a1-5f8e-4731-b51a-b8eaf0b6646e"
      },
      "source": [
        "white_test(with_fliter_pct) #수익율로 계산한 것이 등분산성을 띔 "
      ],
      "execution_count": null,
      "outputs": [
        {
          "output_type": "stream",
          "text": [
            "White-Test p-Value: 0.21755677049027805\n",
            "White test outcome at 5% signficance: homoscedastic\n"
          ],
          "name": "stdout"
        }
      ]
    }
  ]
}